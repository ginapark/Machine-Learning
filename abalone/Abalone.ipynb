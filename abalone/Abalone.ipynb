{
 "cells": [
  {
   "cell_type": "markdown",
   "metadata": {},
   "source": [
    "# Abalone Data Set"
   ]
  },
  {
   "cell_type": "markdown",
   "metadata": {},
   "source": [
    "### We will be predicting the age of an abalone (number of rings).\n",
    "\n",
    "\n",
    "## Getting Data\n",
    "\n",
    "#### We begin by loading the data and creating a dummy variable for the sex of the abalone. "
   ]
  },
  {
   "cell_type": "code",
   "execution_count": 1499,
   "metadata": {},
   "outputs": [
    {
     "data": {
      "text/html": [
       "<div>\n",
       "<style scoped>\n",
       "    .dataframe tbody tr th:only-of-type {\n",
       "        vertical-align: middle;\n",
       "    }\n",
       "\n",
       "    .dataframe tbody tr th {\n",
       "        vertical-align: top;\n",
       "    }\n",
       "\n",
       "    .dataframe thead th {\n",
       "        text-align: right;\n",
       "    }\n",
       "</style>\n",
       "<table border=\"1\" class=\"dataframe\">\n",
       "  <thead>\n",
       "    <tr style=\"text-align: right;\">\n",
       "      <th></th>\n",
       "      <th>sex</th>\n",
       "      <th>length</th>\n",
       "      <th>diameter</th>\n",
       "      <th>height</th>\n",
       "      <th>whole_weight</th>\n",
       "      <th>shucked_weight</th>\n",
       "      <th>viscera_weight</th>\n",
       "      <th>shell_weight</th>\n",
       "      <th>rings</th>\n",
       "    </tr>\n",
       "  </thead>\n",
       "  <tbody>\n",
       "    <tr>\n",
       "      <td>0</td>\n",
       "      <td>M</td>\n",
       "      <td>0.455</td>\n",
       "      <td>0.365</td>\n",
       "      <td>0.095</td>\n",
       "      <td>0.5140</td>\n",
       "      <td>0.2245</td>\n",
       "      <td>0.1010</td>\n",
       "      <td>0.150</td>\n",
       "      <td>15</td>\n",
       "    </tr>\n",
       "    <tr>\n",
       "      <td>1</td>\n",
       "      <td>M</td>\n",
       "      <td>0.350</td>\n",
       "      <td>0.265</td>\n",
       "      <td>0.090</td>\n",
       "      <td>0.2255</td>\n",
       "      <td>0.0995</td>\n",
       "      <td>0.0485</td>\n",
       "      <td>0.070</td>\n",
       "      <td>7</td>\n",
       "    </tr>\n",
       "    <tr>\n",
       "      <td>2</td>\n",
       "      <td>F</td>\n",
       "      <td>0.530</td>\n",
       "      <td>0.420</td>\n",
       "      <td>0.135</td>\n",
       "      <td>0.6770</td>\n",
       "      <td>0.2565</td>\n",
       "      <td>0.1415</td>\n",
       "      <td>0.210</td>\n",
       "      <td>9</td>\n",
       "    </tr>\n",
       "    <tr>\n",
       "      <td>3</td>\n",
       "      <td>M</td>\n",
       "      <td>0.440</td>\n",
       "      <td>0.365</td>\n",
       "      <td>0.125</td>\n",
       "      <td>0.5160</td>\n",
       "      <td>0.2155</td>\n",
       "      <td>0.1140</td>\n",
       "      <td>0.155</td>\n",
       "      <td>10</td>\n",
       "    </tr>\n",
       "    <tr>\n",
       "      <td>4</td>\n",
       "      <td>I</td>\n",
       "      <td>0.330</td>\n",
       "      <td>0.255</td>\n",
       "      <td>0.080</td>\n",
       "      <td>0.2050</td>\n",
       "      <td>0.0895</td>\n",
       "      <td>0.0395</td>\n",
       "      <td>0.055</td>\n",
       "      <td>7</td>\n",
       "    </tr>\n",
       "  </tbody>\n",
       "</table>\n",
       "</div>"
      ],
      "text/plain": [
       "  sex  length  diameter  height  whole_weight  shucked_weight  viscera_weight  \\\n",
       "0   M   0.455     0.365   0.095        0.5140          0.2245          0.1010   \n",
       "1   M   0.350     0.265   0.090        0.2255          0.0995          0.0485   \n",
       "2   F   0.530     0.420   0.135        0.6770          0.2565          0.1415   \n",
       "3   M   0.440     0.365   0.125        0.5160          0.2155          0.1140   \n",
       "4   I   0.330     0.255   0.080        0.2050          0.0895          0.0395   \n",
       "\n",
       "   shell_weight  rings  \n",
       "0         0.150     15  \n",
       "1         0.070      7  \n",
       "2         0.210      9  \n",
       "3         0.155     10  \n",
       "4         0.055      7  "
      ]
     },
     "execution_count": 1499,
     "metadata": {},
     "output_type": "execute_result"
    }
   ],
   "source": [
    "import numpy as np\n",
    "import sklearn\n",
    "import os\n",
    "import pandas as pd\n",
    "import matplotlib.pyplot as plt\n",
    "\n",
    "cwd = os.getcwd()\n",
    "\n",
    "ABALONE_PATH = os.path.join(cwd, \"abalone.data\")\n",
    "\n",
    "\n",
    "def load_abalone_data(abalone_path = ABALONE_PATH):\n",
    "    return pd.read_csv(ABALONE_PATH,  delimiter = ',', \n",
    "                       names = ['sex', \n",
    "                                'length', \n",
    "                                'diameter', \n",
    "                                'height', \n",
    "                                'whole_weight', \n",
    "                                'shucked_weight',\n",
    "                                'viscera_weight', \n",
    "                                'shell_weight', \n",
    "                                'rings'])\n",
    "\n",
    "data = load_abalone_data()\n",
    "\n",
    "def create_dummy(data, column):\n",
    "    dummy = pd.get_dummies(data[column])\n",
    "    new_data = pd.concat([data, dummy], axis=1)\n",
    "    return new_data\n",
    "\n",
    "data.head()"
   ]
  },
  {
   "cell_type": "code",
   "execution_count": 1500,
   "metadata": {},
   "outputs": [
    {
     "name": "stdout",
     "output_type": "stream",
     "text": [
      "<class 'pandas.core.frame.DataFrame'>\n",
      "RangeIndex: 4177 entries, 0 to 4176\n",
      "Data columns (total 9 columns):\n",
      "sex               4177 non-null object\n",
      "length            4177 non-null float64\n",
      "diameter          4177 non-null float64\n",
      "height            4177 non-null float64\n",
      "whole_weight      4177 non-null float64\n",
      "shucked_weight    4177 non-null float64\n",
      "viscera_weight    4177 non-null float64\n",
      "shell_weight      4177 non-null float64\n",
      "rings             4177 non-null int64\n",
      "dtypes: float64(7), int64(1), object(1)\n",
      "memory usage: 293.8+ KB\n"
     ]
    }
   ],
   "source": [
    "data.info()"
   ]
  },
  {
   "cell_type": "code",
   "execution_count": 1501,
   "metadata": {},
   "outputs": [
    {
     "data": {
      "text/html": [
       "<div>\n",
       "<style scoped>\n",
       "    .dataframe tbody tr th:only-of-type {\n",
       "        vertical-align: middle;\n",
       "    }\n",
       "\n",
       "    .dataframe tbody tr th {\n",
       "        vertical-align: top;\n",
       "    }\n",
       "\n",
       "    .dataframe thead th {\n",
       "        text-align: right;\n",
       "    }\n",
       "</style>\n",
       "<table border=\"1\" class=\"dataframe\">\n",
       "  <thead>\n",
       "    <tr style=\"text-align: right;\">\n",
       "      <th></th>\n",
       "      <th>length</th>\n",
       "      <th>diameter</th>\n",
       "      <th>height</th>\n",
       "      <th>whole_weight</th>\n",
       "      <th>shucked_weight</th>\n",
       "      <th>viscera_weight</th>\n",
       "      <th>shell_weight</th>\n",
       "      <th>rings</th>\n",
       "    </tr>\n",
       "  </thead>\n",
       "  <tbody>\n",
       "    <tr>\n",
       "      <td>count</td>\n",
       "      <td>4177.000000</td>\n",
       "      <td>4177.000000</td>\n",
       "      <td>4177.000000</td>\n",
       "      <td>4177.000000</td>\n",
       "      <td>4177.000000</td>\n",
       "      <td>4177.000000</td>\n",
       "      <td>4177.000000</td>\n",
       "      <td>4177.000000</td>\n",
       "    </tr>\n",
       "    <tr>\n",
       "      <td>mean</td>\n",
       "      <td>0.523992</td>\n",
       "      <td>0.407881</td>\n",
       "      <td>0.139516</td>\n",
       "      <td>0.828742</td>\n",
       "      <td>0.359367</td>\n",
       "      <td>0.180594</td>\n",
       "      <td>0.238831</td>\n",
       "      <td>9.933684</td>\n",
       "    </tr>\n",
       "    <tr>\n",
       "      <td>std</td>\n",
       "      <td>0.120093</td>\n",
       "      <td>0.099240</td>\n",
       "      <td>0.041827</td>\n",
       "      <td>0.490389</td>\n",
       "      <td>0.221963</td>\n",
       "      <td>0.109614</td>\n",
       "      <td>0.139203</td>\n",
       "      <td>3.224169</td>\n",
       "    </tr>\n",
       "    <tr>\n",
       "      <td>min</td>\n",
       "      <td>0.075000</td>\n",
       "      <td>0.055000</td>\n",
       "      <td>0.000000</td>\n",
       "      <td>0.002000</td>\n",
       "      <td>0.001000</td>\n",
       "      <td>0.000500</td>\n",
       "      <td>0.001500</td>\n",
       "      <td>1.000000</td>\n",
       "    </tr>\n",
       "    <tr>\n",
       "      <td>25%</td>\n",
       "      <td>0.450000</td>\n",
       "      <td>0.350000</td>\n",
       "      <td>0.115000</td>\n",
       "      <td>0.441500</td>\n",
       "      <td>0.186000</td>\n",
       "      <td>0.093500</td>\n",
       "      <td>0.130000</td>\n",
       "      <td>8.000000</td>\n",
       "    </tr>\n",
       "    <tr>\n",
       "      <td>50%</td>\n",
       "      <td>0.545000</td>\n",
       "      <td>0.425000</td>\n",
       "      <td>0.140000</td>\n",
       "      <td>0.799500</td>\n",
       "      <td>0.336000</td>\n",
       "      <td>0.171000</td>\n",
       "      <td>0.234000</td>\n",
       "      <td>9.000000</td>\n",
       "    </tr>\n",
       "    <tr>\n",
       "      <td>75%</td>\n",
       "      <td>0.615000</td>\n",
       "      <td>0.480000</td>\n",
       "      <td>0.165000</td>\n",
       "      <td>1.153000</td>\n",
       "      <td>0.502000</td>\n",
       "      <td>0.253000</td>\n",
       "      <td>0.329000</td>\n",
       "      <td>11.000000</td>\n",
       "    </tr>\n",
       "    <tr>\n",
       "      <td>max</td>\n",
       "      <td>0.815000</td>\n",
       "      <td>0.650000</td>\n",
       "      <td>1.130000</td>\n",
       "      <td>2.825500</td>\n",
       "      <td>1.488000</td>\n",
       "      <td>0.760000</td>\n",
       "      <td>1.005000</td>\n",
       "      <td>29.000000</td>\n",
       "    </tr>\n",
       "  </tbody>\n",
       "</table>\n",
       "</div>"
      ],
      "text/plain": [
       "            length     diameter       height  whole_weight  shucked_weight  \\\n",
       "count  4177.000000  4177.000000  4177.000000   4177.000000     4177.000000   \n",
       "mean      0.523992     0.407881     0.139516      0.828742        0.359367   \n",
       "std       0.120093     0.099240     0.041827      0.490389        0.221963   \n",
       "min       0.075000     0.055000     0.000000      0.002000        0.001000   \n",
       "25%       0.450000     0.350000     0.115000      0.441500        0.186000   \n",
       "50%       0.545000     0.425000     0.140000      0.799500        0.336000   \n",
       "75%       0.615000     0.480000     0.165000      1.153000        0.502000   \n",
       "max       0.815000     0.650000     1.130000      2.825500        1.488000   \n",
       "\n",
       "       viscera_weight  shell_weight        rings  \n",
       "count     4177.000000   4177.000000  4177.000000  \n",
       "mean         0.180594      0.238831     9.933684  \n",
       "std          0.109614      0.139203     3.224169  \n",
       "min          0.000500      0.001500     1.000000  \n",
       "25%          0.093500      0.130000     8.000000  \n",
       "50%          0.171000      0.234000     9.000000  \n",
       "75%          0.253000      0.329000    11.000000  \n",
       "max          0.760000      1.005000    29.000000  "
      ]
     },
     "execution_count": 1501,
     "metadata": {},
     "output_type": "execute_result"
    }
   ],
   "source": [
    "data.describe()"
   ]
  },
  {
   "cell_type": "markdown",
   "metadata": {},
   "source": [
    "#### We can see that some of our data is inaccurate. We see that the height of the min albaone is 0, which is impossible. We will throw out these inaccurate data points."
   ]
  },
  {
   "cell_type": "code",
   "execution_count": 1502,
   "metadata": {},
   "outputs": [
    {
     "data": {
      "text/html": [
       "<div>\n",
       "<style scoped>\n",
       "    .dataframe tbody tr th:only-of-type {\n",
       "        vertical-align: middle;\n",
       "    }\n",
       "\n",
       "    .dataframe tbody tr th {\n",
       "        vertical-align: top;\n",
       "    }\n",
       "\n",
       "    .dataframe thead th {\n",
       "        text-align: right;\n",
       "    }\n",
       "</style>\n",
       "<table border=\"1\" class=\"dataframe\">\n",
       "  <thead>\n",
       "    <tr style=\"text-align: right;\">\n",
       "      <th></th>\n",
       "      <th>length</th>\n",
       "      <th>diameter</th>\n",
       "      <th>height</th>\n",
       "      <th>whole_weight</th>\n",
       "      <th>shucked_weight</th>\n",
       "      <th>viscera_weight</th>\n",
       "      <th>shell_weight</th>\n",
       "      <th>rings</th>\n",
       "    </tr>\n",
       "  </thead>\n",
       "  <tbody>\n",
       "    <tr>\n",
       "      <td>count</td>\n",
       "      <td>4175.000000</td>\n",
       "      <td>4175.00000</td>\n",
       "      <td>4175.000000</td>\n",
       "      <td>4175.000000</td>\n",
       "      <td>4175.000000</td>\n",
       "      <td>4175.000000</td>\n",
       "      <td>4175.000000</td>\n",
       "      <td>4175.000000</td>\n",
       "    </tr>\n",
       "    <tr>\n",
       "      <td>mean</td>\n",
       "      <td>0.524065</td>\n",
       "      <td>0.40794</td>\n",
       "      <td>0.139583</td>\n",
       "      <td>0.829005</td>\n",
       "      <td>0.359476</td>\n",
       "      <td>0.180653</td>\n",
       "      <td>0.238834</td>\n",
       "      <td>9.935090</td>\n",
       "    </tr>\n",
       "    <tr>\n",
       "      <td>std</td>\n",
       "      <td>0.120069</td>\n",
       "      <td>0.09922</td>\n",
       "      <td>0.041725</td>\n",
       "      <td>0.490349</td>\n",
       "      <td>0.221954</td>\n",
       "      <td>0.109605</td>\n",
       "      <td>0.139212</td>\n",
       "      <td>3.224227</td>\n",
       "    </tr>\n",
       "    <tr>\n",
       "      <td>min</td>\n",
       "      <td>0.075000</td>\n",
       "      <td>0.05500</td>\n",
       "      <td>0.010000</td>\n",
       "      <td>0.002000</td>\n",
       "      <td>0.001000</td>\n",
       "      <td>0.000500</td>\n",
       "      <td>0.001500</td>\n",
       "      <td>1.000000</td>\n",
       "    </tr>\n",
       "    <tr>\n",
       "      <td>25%</td>\n",
       "      <td>0.450000</td>\n",
       "      <td>0.35000</td>\n",
       "      <td>0.115000</td>\n",
       "      <td>0.442250</td>\n",
       "      <td>0.186250</td>\n",
       "      <td>0.093500</td>\n",
       "      <td>0.130000</td>\n",
       "      <td>8.000000</td>\n",
       "    </tr>\n",
       "    <tr>\n",
       "      <td>50%</td>\n",
       "      <td>0.545000</td>\n",
       "      <td>0.42500</td>\n",
       "      <td>0.140000</td>\n",
       "      <td>0.800000</td>\n",
       "      <td>0.336000</td>\n",
       "      <td>0.171000</td>\n",
       "      <td>0.234000</td>\n",
       "      <td>9.000000</td>\n",
       "    </tr>\n",
       "    <tr>\n",
       "      <td>75%</td>\n",
       "      <td>0.615000</td>\n",
       "      <td>0.48000</td>\n",
       "      <td>0.165000</td>\n",
       "      <td>1.153500</td>\n",
       "      <td>0.502000</td>\n",
       "      <td>0.253000</td>\n",
       "      <td>0.328750</td>\n",
       "      <td>11.000000</td>\n",
       "    </tr>\n",
       "    <tr>\n",
       "      <td>max</td>\n",
       "      <td>0.815000</td>\n",
       "      <td>0.65000</td>\n",
       "      <td>1.130000</td>\n",
       "      <td>2.825500</td>\n",
       "      <td>1.488000</td>\n",
       "      <td>0.760000</td>\n",
       "      <td>1.005000</td>\n",
       "      <td>29.000000</td>\n",
       "    </tr>\n",
       "  </tbody>\n",
       "</table>\n",
       "</div>"
      ],
      "text/plain": [
       "            length    diameter       height  whole_weight  shucked_weight  \\\n",
       "count  4175.000000  4175.00000  4175.000000   4175.000000     4175.000000   \n",
       "mean      0.524065     0.40794     0.139583      0.829005        0.359476   \n",
       "std       0.120069     0.09922     0.041725      0.490349        0.221954   \n",
       "min       0.075000     0.05500     0.010000      0.002000        0.001000   \n",
       "25%       0.450000     0.35000     0.115000      0.442250        0.186250   \n",
       "50%       0.545000     0.42500     0.140000      0.800000        0.336000   \n",
       "75%       0.615000     0.48000     0.165000      1.153500        0.502000   \n",
       "max       0.815000     0.65000     1.130000      2.825500        1.488000   \n",
       "\n",
       "       viscera_weight  shell_weight        rings  \n",
       "count     4175.000000   4175.000000  4175.000000  \n",
       "mean         0.180653      0.238834     9.935090  \n",
       "std          0.109605      0.139212     3.224227  \n",
       "min          0.000500      0.001500     1.000000  \n",
       "25%          0.093500      0.130000     8.000000  \n",
       "50%          0.171000      0.234000     9.000000  \n",
       "75%          0.253000      0.328750    11.000000  \n",
       "max          0.760000      1.005000    29.000000  "
      ]
     },
     "execution_count": 1502,
     "metadata": {},
     "output_type": "execute_result"
    }
   ],
   "source": [
    "data = data[data.height > 0]\n",
    "data.describe()"
   ]
  },
  {
   "cell_type": "markdown",
   "metadata": {},
   "source": [
    "## Train-Test Split \n",
    "\n",
    "#### Now we will split our data into training and testing sets"
   ]
  },
  {
   "cell_type": "code",
   "execution_count": 1503,
   "metadata": {},
   "outputs": [],
   "source": [
    "from sklearn.model_selection import train_test_split\n",
    "\n",
    "train, test = train_test_split(data, test_size=0.2, random_state=30)"
   ]
  },
  {
   "cell_type": "markdown",
   "metadata": {},
   "source": [
    "## Data-Clean Up\n",
    "\n",
    "#### We will clean up the training test data. First, we will convert the \"sex\" variable into a dummy variable."
   ]
  },
  {
   "cell_type": "code",
   "execution_count": 1504,
   "metadata": {},
   "outputs": [],
   "source": [
    "train = create_dummy(train, \"sex\")\n",
    "train = train.drop(\"sex\", axis=1)\n",
    "train = train.drop(\"I\", axis=1)"
   ]
  },
  {
   "cell_type": "code",
   "execution_count": 1505,
   "metadata": {},
   "outputs": [
    {
     "data": {
      "text/html": [
       "<div>\n",
       "<style scoped>\n",
       "    .dataframe tbody tr th:only-of-type {\n",
       "        vertical-align: middle;\n",
       "    }\n",
       "\n",
       "    .dataframe tbody tr th {\n",
       "        vertical-align: top;\n",
       "    }\n",
       "\n",
       "    .dataframe thead th {\n",
       "        text-align: right;\n",
       "    }\n",
       "</style>\n",
       "<table border=\"1\" class=\"dataframe\">\n",
       "  <thead>\n",
       "    <tr style=\"text-align: right;\">\n",
       "      <th></th>\n",
       "      <th>length</th>\n",
       "      <th>diameter</th>\n",
       "      <th>height</th>\n",
       "      <th>whole_weight</th>\n",
       "      <th>shucked_weight</th>\n",
       "      <th>viscera_weight</th>\n",
       "      <th>shell_weight</th>\n",
       "      <th>rings</th>\n",
       "      <th>F</th>\n",
       "      <th>M</th>\n",
       "    </tr>\n",
       "  </thead>\n",
       "  <tbody>\n",
       "    <tr>\n",
       "      <td>count</td>\n",
       "      <td>3340.000000</td>\n",
       "      <td>3340.000000</td>\n",
       "      <td>3340.000000</td>\n",
       "      <td>3340.000000</td>\n",
       "      <td>3340.000000</td>\n",
       "      <td>3340.000000</td>\n",
       "      <td>3340.000000</td>\n",
       "      <td>3340.000000</td>\n",
       "      <td>3340.000000</td>\n",
       "      <td>3340.000000</td>\n",
       "    </tr>\n",
       "    <tr>\n",
       "      <td>mean</td>\n",
       "      <td>0.524840</td>\n",
       "      <td>0.408729</td>\n",
       "      <td>0.139883</td>\n",
       "      <td>0.831941</td>\n",
       "      <td>0.360182</td>\n",
       "      <td>0.181041</td>\n",
       "      <td>0.240099</td>\n",
       "      <td>9.990719</td>\n",
       "      <td>0.316467</td>\n",
       "      <td>0.370659</td>\n",
       "    </tr>\n",
       "    <tr>\n",
       "      <td>std</td>\n",
       "      <td>0.118832</td>\n",
       "      <td>0.098019</td>\n",
       "      <td>0.042092</td>\n",
       "      <td>0.486864</td>\n",
       "      <td>0.220740</td>\n",
       "      <td>0.108752</td>\n",
       "      <td>0.138170</td>\n",
       "      <td>3.239594</td>\n",
       "      <td>0.465167</td>\n",
       "      <td>0.483054</td>\n",
       "    </tr>\n",
       "    <tr>\n",
       "      <td>min</td>\n",
       "      <td>0.075000</td>\n",
       "      <td>0.055000</td>\n",
       "      <td>0.010000</td>\n",
       "      <td>0.002000</td>\n",
       "      <td>0.001000</td>\n",
       "      <td>0.000500</td>\n",
       "      <td>0.001500</td>\n",
       "      <td>1.000000</td>\n",
       "      <td>0.000000</td>\n",
       "      <td>0.000000</td>\n",
       "    </tr>\n",
       "    <tr>\n",
       "      <td>25%</td>\n",
       "      <td>0.450000</td>\n",
       "      <td>0.350000</td>\n",
       "      <td>0.115000</td>\n",
       "      <td>0.448500</td>\n",
       "      <td>0.187000</td>\n",
       "      <td>0.094500</td>\n",
       "      <td>0.132000</td>\n",
       "      <td>8.000000</td>\n",
       "      <td>0.000000</td>\n",
       "      <td>0.000000</td>\n",
       "    </tr>\n",
       "    <tr>\n",
       "      <td>50%</td>\n",
       "      <td>0.545000</td>\n",
       "      <td>0.425000</td>\n",
       "      <td>0.140000</td>\n",
       "      <td>0.802750</td>\n",
       "      <td>0.336000</td>\n",
       "      <td>0.170500</td>\n",
       "      <td>0.235000</td>\n",
       "      <td>10.000000</td>\n",
       "      <td>0.000000</td>\n",
       "      <td>0.000000</td>\n",
       "    </tr>\n",
       "    <tr>\n",
       "      <td>75%</td>\n",
       "      <td>0.615000</td>\n",
       "      <td>0.480000</td>\n",
       "      <td>0.165000</td>\n",
       "      <td>1.154000</td>\n",
       "      <td>0.503000</td>\n",
       "      <td>0.253625</td>\n",
       "      <td>0.330000</td>\n",
       "      <td>11.000000</td>\n",
       "      <td>1.000000</td>\n",
       "      <td>1.000000</td>\n",
       "    </tr>\n",
       "    <tr>\n",
       "      <td>max</td>\n",
       "      <td>0.815000</td>\n",
       "      <td>0.650000</td>\n",
       "      <td>1.130000</td>\n",
       "      <td>2.657000</td>\n",
       "      <td>1.488000</td>\n",
       "      <td>0.590000</td>\n",
       "      <td>1.005000</td>\n",
       "      <td>29.000000</td>\n",
       "      <td>1.000000</td>\n",
       "      <td>1.000000</td>\n",
       "    </tr>\n",
       "  </tbody>\n",
       "</table>\n",
       "</div>"
      ],
      "text/plain": [
       "            length     diameter       height  whole_weight  shucked_weight  \\\n",
       "count  3340.000000  3340.000000  3340.000000   3340.000000     3340.000000   \n",
       "mean      0.524840     0.408729     0.139883      0.831941        0.360182   \n",
       "std       0.118832     0.098019     0.042092      0.486864        0.220740   \n",
       "min       0.075000     0.055000     0.010000      0.002000        0.001000   \n",
       "25%       0.450000     0.350000     0.115000      0.448500        0.187000   \n",
       "50%       0.545000     0.425000     0.140000      0.802750        0.336000   \n",
       "75%       0.615000     0.480000     0.165000      1.154000        0.503000   \n",
       "max       0.815000     0.650000     1.130000      2.657000        1.488000   \n",
       "\n",
       "       viscera_weight  shell_weight        rings            F            M  \n",
       "count     3340.000000   3340.000000  3340.000000  3340.000000  3340.000000  \n",
       "mean         0.181041      0.240099     9.990719     0.316467     0.370659  \n",
       "std          0.108752      0.138170     3.239594     0.465167     0.483054  \n",
       "min          0.000500      0.001500     1.000000     0.000000     0.000000  \n",
       "25%          0.094500      0.132000     8.000000     0.000000     0.000000  \n",
       "50%          0.170500      0.235000    10.000000     0.000000     0.000000  \n",
       "75%          0.253625      0.330000    11.000000     1.000000     1.000000  \n",
       "max          0.590000      1.005000    29.000000     1.000000     1.000000  "
      ]
     },
     "execution_count": 1505,
     "metadata": {},
     "output_type": "execute_result"
    }
   ],
   "source": [
    "train.describe()"
   ]
  },
  {
   "cell_type": "code",
   "execution_count": 1506,
   "metadata": {},
   "outputs": [
    {
     "data": {
      "image/png": "[encoded data removed]",
      "text/plain": [
       "<Figure size 1440x1080 with 12 Axes>"
      ]
     },
     "metadata": {
      "needs_background": "light"
     },
     "output_type": "display_data"
    }
   ],
   "source": [
    "train.hist(bins=50, figsize=(20,15))\n",
    "plt.show()"
   ]
  },
  {
   "cell_type": "markdown",
   "metadata": {},
   "source": [
    "#### From the histograms and data description table above, we can observe two things.\n",
    "#### 1). The weight data is generally skewed to the right. We will have to standardize this data to make it more normally distributed (later in the process).\n",
    "#### 1). There is an extreme outlier in height (1.13). Let's remove such extreme outliers from the data first."
   ]
  },
  {
   "cell_type": "code",
   "execution_count": 1507,
   "metadata": {},
   "outputs": [
    {
     "data": {
      "text/html": [
       "<div>\n",
       "<style scoped>\n",
       "    .dataframe tbody tr th:only-of-type {\n",
       "        vertical-align: middle;\n",
       "    }\n",
       "\n",
       "    .dataframe tbody tr th {\n",
       "        vertical-align: top;\n",
       "    }\n",
       "\n",
       "    .dataframe thead th {\n",
       "        text-align: right;\n",
       "    }\n",
       "</style>\n",
       "<table border=\"1\" class=\"dataframe\">\n",
       "  <thead>\n",
       "    <tr style=\"text-align: right;\">\n",
       "      <th></th>\n",
       "      <th>length</th>\n",
       "      <th>diameter</th>\n",
       "      <th>height</th>\n",
       "      <th>whole_weight</th>\n",
       "      <th>shucked_weight</th>\n",
       "      <th>viscera_weight</th>\n",
       "      <th>shell_weight</th>\n",
       "      <th>rings</th>\n",
       "      <th>F</th>\n",
       "      <th>M</th>\n",
       "    </tr>\n",
       "  </thead>\n",
       "  <tbody>\n",
       "    <tr>\n",
       "      <td>count</td>\n",
       "      <td>3336.000000</td>\n",
       "      <td>3336.000000</td>\n",
       "      <td>3336.000000</td>\n",
       "      <td>3336.000000</td>\n",
       "      <td>3336.000000</td>\n",
       "      <td>3336.000000</td>\n",
       "      <td>3336.000000</td>\n",
       "      <td>3336.000000</td>\n",
       "      <td>3336.000000</td>\n",
       "      <td>3336.000000</td>\n",
       "    </tr>\n",
       "    <tr>\n",
       "      <td>mean</td>\n",
       "      <td>0.524699</td>\n",
       "      <td>0.408608</td>\n",
       "      <td>0.139408</td>\n",
       "      <td>0.831037</td>\n",
       "      <td>0.359777</td>\n",
       "      <td>0.180878</td>\n",
       "      <td>0.239821</td>\n",
       "      <td>9.988909</td>\n",
       "      <td>0.315947</td>\n",
       "      <td>0.370803</td>\n",
       "    </tr>\n",
       "    <tr>\n",
       "      <td>std</td>\n",
       "      <td>0.118744</td>\n",
       "      <td>0.097941</td>\n",
       "      <td>0.037818</td>\n",
       "      <td>0.485865</td>\n",
       "      <td>0.220293</td>\n",
       "      <td>0.108598</td>\n",
       "      <td>0.137777</td>\n",
       "      <td>3.239866</td>\n",
       "      <td>0.464962</td>\n",
       "      <td>0.483092</td>\n",
       "    </tr>\n",
       "    <tr>\n",
       "      <td>min</td>\n",
       "      <td>0.075000</td>\n",
       "      <td>0.055000</td>\n",
       "      <td>0.010000</td>\n",
       "      <td>0.002000</td>\n",
       "      <td>0.001000</td>\n",
       "      <td>0.000500</td>\n",
       "      <td>0.001500</td>\n",
       "      <td>1.000000</td>\n",
       "      <td>0.000000</td>\n",
       "      <td>0.000000</td>\n",
       "    </tr>\n",
       "    <tr>\n",
       "      <td>25%</td>\n",
       "      <td>0.450000</td>\n",
       "      <td>0.350000</td>\n",
       "      <td>0.115000</td>\n",
       "      <td>0.448375</td>\n",
       "      <td>0.187000</td>\n",
       "      <td>0.094375</td>\n",
       "      <td>0.132000</td>\n",
       "      <td>8.000000</td>\n",
       "      <td>0.000000</td>\n",
       "      <td>0.000000</td>\n",
       "    </tr>\n",
       "    <tr>\n",
       "      <td>50%</td>\n",
       "      <td>0.545000</td>\n",
       "      <td>0.425000</td>\n",
       "      <td>0.140000</td>\n",
       "      <td>0.802500</td>\n",
       "      <td>0.335750</td>\n",
       "      <td>0.170250</td>\n",
       "      <td>0.235000</td>\n",
       "      <td>10.000000</td>\n",
       "      <td>0.000000</td>\n",
       "      <td>0.000000</td>\n",
       "    </tr>\n",
       "    <tr>\n",
       "      <td>75%</td>\n",
       "      <td>0.615000</td>\n",
       "      <td>0.480000</td>\n",
       "      <td>0.165000</td>\n",
       "      <td>1.153000</td>\n",
       "      <td>0.502250</td>\n",
       "      <td>0.253500</td>\n",
       "      <td>0.330000</td>\n",
       "      <td>11.000000</td>\n",
       "      <td>1.000000</td>\n",
       "      <td>1.000000</td>\n",
       "    </tr>\n",
       "    <tr>\n",
       "      <td>max</td>\n",
       "      <td>0.800000</td>\n",
       "      <td>0.630000</td>\n",
       "      <td>0.240000</td>\n",
       "      <td>2.657000</td>\n",
       "      <td>1.488000</td>\n",
       "      <td>0.590000</td>\n",
       "      <td>1.005000</td>\n",
       "      <td>29.000000</td>\n",
       "      <td>1.000000</td>\n",
       "      <td>1.000000</td>\n",
       "    </tr>\n",
       "  </tbody>\n",
       "</table>\n",
       "</div>"
      ],
      "text/plain": [
       "            length     diameter       height  whole_weight  shucked_weight  \\\n",
       "count  3336.000000  3336.000000  3336.000000   3336.000000     3336.000000   \n",
       "mean      0.524699     0.408608     0.139408      0.831037        0.359777   \n",
       "std       0.118744     0.097941     0.037818      0.485865        0.220293   \n",
       "min       0.075000     0.055000     0.010000      0.002000        0.001000   \n",
       "25%       0.450000     0.350000     0.115000      0.448375        0.187000   \n",
       "50%       0.545000     0.425000     0.140000      0.802500        0.335750   \n",
       "75%       0.615000     0.480000     0.165000      1.153000        0.502250   \n",
       "max       0.800000     0.630000     0.240000      2.657000        1.488000   \n",
       "\n",
       "       viscera_weight  shell_weight        rings            F            M  \n",
       "count     3336.000000   3336.000000  3336.000000  3336.000000  3336.000000  \n",
       "mean         0.180878      0.239821     9.988909     0.315947     0.370803  \n",
       "std          0.108598      0.137777     3.239866     0.464962     0.483092  \n",
       "min          0.000500      0.001500     1.000000     0.000000     0.000000  \n",
       "25%          0.094375      0.132000     8.000000     0.000000     0.000000  \n",
       "50%          0.170250      0.235000    10.000000     0.000000     0.000000  \n",
       "75%          0.253500      0.330000    11.000000     1.000000     1.000000  \n",
       "max          0.590000      1.005000    29.000000     1.000000     1.000000  "
      ]
     },
     "execution_count": 1507,
     "metadata": {},
     "output_type": "execute_result"
    },
    {
     "data": {
      "image/png": "[encoded data removed]",
      "text/plain": [
       "<Figure size 1440x1080 with 1 Axes>"
      ]
     },
     "metadata": {
      "needs_background": "light"
     },
     "output_type": "display_data"
    }
   ],
   "source": [
    "train[\"height\"].hist(bins=50, figsize=(20,15))\n",
    "train = train[train.height < 0.25]\n",
    "train.describe()"
   ]
  },
  {
   "cell_type": "markdown",
   "metadata": {},
   "source": [
    "#### Now, we will see which features that we want to include in our models. From the correlation matrix below, we can see that all attributes except for female or male have a relatively positive correlation with age (rings). "
   ]
  },
  {
   "cell_type": "code",
   "execution_count": 1508,
   "metadata": {},
   "outputs": [
    {
     "data": {
      "text/plain": [
       "rings             1.000000\n",
       "shell_weight      0.620159\n",
       "height            0.599964\n",
       "diameter          0.561335\n",
       "length            0.543512\n",
       "whole_weight      0.529348\n",
       "viscera_weight    0.493855\n",
       "shucked_weight    0.406841\n",
       "F                 0.254323\n",
       "M                 0.171026\n",
       "Name: rings, dtype: float64"
      ]
     },
     "execution_count": 1508,
     "metadata": {},
     "output_type": "execute_result"
    }
   ],
   "source": [
    "corr_matrix = train.corr()\n",
    "corr_matrix[\"rings\"].sort_values(ascending=False)"
   ]
  },
  {
   "cell_type": "markdown",
   "metadata": {},
   "source": [
    "#### With the scatter matrix below, we can see that generally, there is generally a slightly non-linear (more logistic) relationship between the weight attributes (whole_weight, shucked_weight, viscera_weight, shell_weight) and age (ring number). Length and diameter also have a slightly non-linear relationship. From this, we can predict that a logistic regression will better predict abalone age (number of rings) compared to a linear regression.\n"
   ]
  },
  {
   "cell_type": "code",
   "execution_count": 1509,
   "metadata": {},
   "outputs": [
    {
     "data": {
      "image/png": "[encoded data removed]",
      "text/plain": [
       "<Figure size 864x576 with 100 Axes>"
      ]
     },
     "metadata": {
      "needs_background": "light"
     },
     "output_type": "display_data"
    }
   ],
   "source": [
    "from pandas.plotting import scatter_matrix\n",
    "\n",
    "attributes = ['rings',\n",
    "              'length', \n",
    "              'diameter', \n",
    "              'height', \n",
    "              'whole_weight', \n",
    "              'shucked_weight',\n",
    "              'viscera_weight', \n",
    "              'shell_weight', \n",
    "              'F', \n",
    "              'M']\n",
    "matrix = scatter_matrix(train[attributes], figsize=(12, 8))\n"
   ]
  },
  {
   "cell_type": "markdown",
   "metadata": {},
   "source": [
    "#### We can also see from the correlation matrix that the sex of the abalone is a poor indicator of the number of rings (age). Thus, we will drop this from our regression"
   ]
  },
  {
   "cell_type": "code",
   "execution_count": 1510,
   "metadata": {},
   "outputs": [
    {
     "data": {
      "text/html": [
       "<div>\n",
       "<style scoped>\n",
       "    .dataframe tbody tr th:only-of-type {\n",
       "        vertical-align: middle;\n",
       "    }\n",
       "\n",
       "    .dataframe tbody tr th {\n",
       "        vertical-align: top;\n",
       "    }\n",
       "\n",
       "    .dataframe thead th {\n",
       "        text-align: right;\n",
       "    }\n",
       "</style>\n",
       "<table border=\"1\" class=\"dataframe\">\n",
       "  <thead>\n",
       "    <tr style=\"text-align: right;\">\n",
       "      <th></th>\n",
       "      <th>length</th>\n",
       "      <th>diameter</th>\n",
       "      <th>height</th>\n",
       "      <th>whole_weight</th>\n",
       "      <th>shucked_weight</th>\n",
       "      <th>viscera_weight</th>\n",
       "      <th>shell_weight</th>\n",
       "      <th>rings</th>\n",
       "    </tr>\n",
       "  </thead>\n",
       "  <tbody>\n",
       "    <tr>\n",
       "      <td>3393</td>\n",
       "      <td>0.575</td>\n",
       "      <td>0.435</td>\n",
       "      <td>0.13</td>\n",
       "      <td>1.0105</td>\n",
       "      <td>0.3680</td>\n",
       "      <td>0.2220</td>\n",
       "      <td>0.3200</td>\n",
       "      <td>10</td>\n",
       "    </tr>\n",
       "    <tr>\n",
       "      <td>1409</td>\n",
       "      <td>0.660</td>\n",
       "      <td>0.515</td>\n",
       "      <td>0.17</td>\n",
       "      <td>1.3370</td>\n",
       "      <td>0.6150</td>\n",
       "      <td>0.3125</td>\n",
       "      <td>0.3575</td>\n",
       "      <td>10</td>\n",
       "    </tr>\n",
       "    <tr>\n",
       "      <td>2205</td>\n",
       "      <td>0.275</td>\n",
       "      <td>0.220</td>\n",
       "      <td>0.08</td>\n",
       "      <td>0.1365</td>\n",
       "      <td>0.0565</td>\n",
       "      <td>0.0285</td>\n",
       "      <td>0.0420</td>\n",
       "      <td>6</td>\n",
       "    </tr>\n",
       "    <tr>\n",
       "      <td>3194</td>\n",
       "      <td>0.610</td>\n",
       "      <td>0.470</td>\n",
       "      <td>0.16</td>\n",
       "      <td>1.0170</td>\n",
       "      <td>0.4260</td>\n",
       "      <td>0.2255</td>\n",
       "      <td>0.3200</td>\n",
       "      <td>12</td>\n",
       "    </tr>\n",
       "    <tr>\n",
       "      <td>112</td>\n",
       "      <td>0.435</td>\n",
       "      <td>0.320</td>\n",
       "      <td>0.08</td>\n",
       "      <td>0.3325</td>\n",
       "      <td>0.1485</td>\n",
       "      <td>0.0635</td>\n",
       "      <td>0.1050</td>\n",
       "      <td>9</td>\n",
       "    </tr>\n",
       "  </tbody>\n",
       "</table>\n",
       "</div>"
      ],
      "text/plain": [
       "      length  diameter  height  whole_weight  shucked_weight  viscera_weight  \\\n",
       "3393   0.575     0.435    0.13        1.0105          0.3680          0.2220   \n",
       "1409   0.660     0.515    0.17        1.3370          0.6150          0.3125   \n",
       "2205   0.275     0.220    0.08        0.1365          0.0565          0.0285   \n",
       "3194   0.610     0.470    0.16        1.0170          0.4260          0.2255   \n",
       "112    0.435     0.320    0.08        0.3325          0.1485          0.0635   \n",
       "\n",
       "      shell_weight  rings  \n",
       "3393        0.3200     10  \n",
       "1409        0.3575     10  \n",
       "2205        0.0420      6  \n",
       "3194        0.3200     12  \n",
       "112         0.1050      9  "
      ]
     },
     "execution_count": 1510,
     "metadata": {},
     "output_type": "execute_result"
    }
   ],
   "source": [
    "train = train.drop(\"M\", axis=1)\n",
    "train = train.drop(\"F\", axis=1)\n",
    "train.head()"
   ]
  },
  {
   "cell_type": "markdown",
   "metadata": {},
   "source": [
    "#### We also observe that 'viscera_weight', 'shucked_weight', and 'whole_weight' aren't as positively correlated with the number of rings as the other features. We will run two models, one with all features except for 'sex' included and one with all features except for 'sex', viscera_weight', 'shucked_weight'.\n",
    "\n",
    "#### We now begin splitting the data."
   ]
  },
  {
   "cell_type": "code",
   "execution_count": 1511,
   "metadata": {},
   "outputs": [],
   "source": [
    "train_y = train[\"rings\"]\n",
    "train_x = train.drop(columns=['rings'])\n",
    "train_x_removed_features = train.drop(columns=['rings', 'viscera_weight','shucked_weight'])\n",
    "\n",
    "test_y = test[\"rings\"]\n",
    "test_x = test.drop(columns=['rings', 'sex'])\n",
    "test_x_removed_features = test.drop(columns=['sex','rings', 'viscera_weight', 'shucked_weight'])\n",
    "\n"
   ]
  },
  {
   "cell_type": "markdown",
   "metadata": {},
   "source": [
    "#### As discussed previously, our data is skewed. We will apply a standard scaler to scale and standardize the data."
   ]
  },
  {
   "cell_type": "code",
   "execution_count": 1512,
   "metadata": {},
   "outputs": [],
   "source": [
    "from sklearn.preprocessing import StandardScaler\n",
    "\n",
    "process = StandardScaler()\n",
    "\n",
    "train_x = process.fit_transform(train_x)\n",
    "train_x_removed_features = process.fit_transform(train_x_removed_features)\n"
   ]
  },
  {
   "cell_type": "markdown",
   "metadata": {},
   "source": [
    "## Models\n",
    "\n",
    "#### First, we'll write a function to evaluate all our models. This function returns the correct output within a certain acceptable range as well as the Mean Average Error.\n"
   ]
  },
  {
   "cell_type": "code",
   "execution_count": 1513,
   "metadata": {},
   "outputs": [],
   "source": [
    "def evaluating_model(predictions, actual, acceptable_range):\n",
    "    total = len(predictions)\n",
    "    correct = 0\n",
    "    mae = 0\n",
    "    \n",
    "    for i in range(total):\n",
    "        difference = abs(predictions[i] - actual[i])\n",
    "        if difference <= acceptable_range:\n",
    "            correct += 1\n",
    "        mae += difference\n",
    "    \n",
    "    percent_correct = (correct / total) * 100\n",
    "    mae = mae / total\n",
    "    \n",
    "    print(\"{:0.2f}% correct within {} year(s) ({} correct guesses)\".format(\n",
    "            percent_correct, acceptable_range, correct))\n",
    "    print(\"MAE: {}\".format(mae))\n",
    "        "
   ]
  },
  {
   "cell_type": "markdown",
   "metadata": {},
   "source": [
    "## Linear Regressions"
   ]
  },
  {
   "cell_type": "markdown",
   "metadata": {},
   "source": [
    "### Model with All Features (except 'sex')"
   ]
  },
  {
   "cell_type": "code",
   "execution_count": 1514,
   "metadata": {},
   "outputs": [
    {
     "name": "stdout",
     "output_type": "stream",
     "text": [
      "Test mse is 13.452575604743819, rmse is 3.6677752936547\n",
      "10.54% correct within 1 year(s) (88 correct guesses)\n",
      "MAE: 3.3011490407123127\n",
      "20.96% correct within 2 year(s) (175 correct guesses)\n",
      "MAE: 3.3011490407123127\n"
     ]
    }
   ],
   "source": [
    "from sklearn.linear_model import LinearRegression\n",
    "from sklearn.metrics import mean_squared_error\n",
    "\n",
    "lin_reg = LinearRegression()\n",
    "lin_reg.fit(train_x, train_y)\n",
    "\n",
    "pred_lin = lin_reg.predict(test_x)\n",
    "\n",
    "lin_mse = mean_squared_error(test_y, pred_lin)\n",
    "lin_rmse = np.sqrt(lin_mse)\n",
    "\n",
    "print(\"Test mse is {}, rmse is {}\".format(lin_mse, lin_rmse))\n",
    "evaluating_model(pred_lin, test_y.values, 1)\n",
    "evaluating_model(pred_lin, test_y.values, 2)"
   ]
  },
  {
   "cell_type": "markdown",
   "metadata": {},
   "source": [
    "### Model with Removals ('sex', viscera_weight', 'shucked_weight')"
   ]
  },
  {
   "cell_type": "code",
   "execution_count": 1515,
   "metadata": {},
   "outputs": [
    {
     "name": "stdout",
     "output_type": "stream",
     "text": [
      "Test mse is 15.384635195852011, rmse is 3.9223252282099215\n",
      "21.68% correct within 1 year(s) (181 correct guesses)\n",
      "MAE: 3.004048806377967\n",
      "42.99% correct within 2 year(s) (359 correct guesses)\n",
      "MAE: 3.004048806377967\n"
     ]
    }
   ],
   "source": [
    "lin_reg_2 = LinearRegression()\n",
    "lin_reg_2.fit(train_x_removed_features, train_y)\n",
    "\n",
    "pred_lin_2 = lin_reg_2.predict(test_x_removed_features)\n",
    "\n",
    "lin_mse_2 = mean_squared_error(test_y, pred_lin_2)\n",
    "lin_rmse_2 = np.sqrt(lin_mse_2)\n",
    "\n",
    "print(\"Test mse is {}, rmse is {}\".format(lin_mse_2, lin_rmse_2))\n",
    "evaluating_model(pred_lin_2, test_y.values, 1)\n",
    "evaluating_model(pred_lin_2, test_y.values, 2)"
   ]
  },
  {
   "cell_type": "markdown",
   "metadata": {},
   "source": [
    "## Logistic Regressions\n",
    "\n",
    "### Model with All Features (except 'sex')"
   ]
  },
  {
   "cell_type": "code",
   "execution_count": 1516,
   "metadata": {},
   "outputs": [
    {
     "name": "stdout",
     "output_type": "stream",
     "text": [
      "Test mse is 8.487425149700599, rmse is 2.9133185801934878\n",
      "43.11% correct within 1 year(s) (360 correct guesses)\n",
      "MAE: 2.207185628742515\n",
      "65.03% correct within 2 year(s) (543 correct guesses)\n",
      "MAE: 2.207185628742515\n"
     ]
    },
    {
     "name": "stderr",
     "output_type": "stream",
     "text": [
      "/Users/gp/anaconda3/lib/python3.7/site-packages/sklearn/linear_model/logistic.py:432: FutureWarning: Default solver will be changed to 'lbfgs' in 0.22. Specify a solver to silence this warning.\n",
      "  FutureWarning)\n",
      "/Users/gp/anaconda3/lib/python3.7/site-packages/sklearn/linear_model/logistic.py:469: FutureWarning: Default multi_class will be changed to 'auto' in 0.22. Specify the multi_class option to silence this warning.\n",
      "  \"this warning.\", FutureWarning)\n"
     ]
    }
   ],
   "source": [
    "from sklearn.linear_model import LogisticRegression\n",
    "log_reg = LogisticRegression()\n",
    "log_reg.fit(train_x, train_y)\n",
    "\n",
    "pred_log = log_reg.predict(test_x)\n",
    "\n",
    "log_mse = mean_squared_error(test_y, pred_log)\n",
    "log_rmse = np.sqrt(log_mse)\n",
    "\n",
    "print(\"Test mse is {}, rmse is {}\".format(log_mse, log_rmse))\n",
    "evaluating_model(pred_log, test_y.values, 1)\n",
    "evaluating_model(pred_log, test_y.values, 2)"
   ]
  },
  {
   "cell_type": "markdown",
   "metadata": {},
   "source": [
    "### Model with Removals ('sex', viscera_weight', 'shucked_weight')"
   ]
  },
  {
   "cell_type": "code",
   "execution_count": 1517,
   "metadata": {},
   "outputs": [
    {
     "name": "stderr",
     "output_type": "stream",
     "text": [
      "/Users/gp/anaconda3/lib/python3.7/site-packages/sklearn/linear_model/logistic.py:432: FutureWarning: Default solver will be changed to 'lbfgs' in 0.22. Specify a solver to silence this warning.\n",
      "  FutureWarning)\n",
      "/Users/gp/anaconda3/lib/python3.7/site-packages/sklearn/linear_model/logistic.py:469: FutureWarning: Default multi_class will be changed to 'auto' in 0.22. Specify the multi_class option to silence this warning.\n",
      "  \"this warning.\", FutureWarning)\n"
     ]
    },
    {
     "name": "stdout",
     "output_type": "stream",
     "text": [
      "Test mse is 8.48383233532934, rmse is 2.9127018960630595\n",
      "49.10% correct within 1 year(s) (410 correct guesses)\n",
      "MAE: 2.117365269461078\n",
      "69.22% correct within 2 year(s) (578 correct guesses)\n",
      "MAE: 2.117365269461078\n"
     ]
    }
   ],
   "source": [
    "log_reg_2 = LogisticRegression()\n",
    "log_reg_2.fit(train_x_removed_features, train_y)\n",
    "\n",
    "pred_log_2 = log_reg_2.predict(test_x_removed_features)\n",
    "\n",
    "log_mse_2 = mean_squared_error(test_y, pred_log_2)\n",
    "log_rmse_2 = np.sqrt(log_mse_2)\n",
    "\n",
    "print(\"Test mse is {}, rmse is {}\".format(log_mse_2, log_rmse_2))\n",
    "evaluating_model(pred_log_2, test_y.values, 1)\n",
    "evaluating_model(pred_log_2, test_y.values, 2)"
   ]
  },
  {
   "cell_type": "markdown",
   "metadata": {},
   "source": [
    "## Decision Trees\n",
    "\n",
    "#### Now, let's try using a decision tree. After trial and error, it seems like a max_depth of 5 minimizes the errors."
   ]
  },
  {
   "cell_type": "code",
   "execution_count": 1518,
   "metadata": {},
   "outputs": [
    {
     "name": "stdout",
     "output_type": "stream",
     "text": [
      "Tree mse is 10.193786171381532, rmse is 3.1927709237246464\n",
      "29.82% correct within 1 year(s) (249 correct guesses)\n",
      "MAE: 2.494173087211585\n",
      "49.70% correct within 2 year(s) (415 correct guesses)\n",
      "MAE: 2.494173087211585\n"
     ]
    }
   ],
   "source": [
    "from sklearn.tree import DecisionTreeRegressor\n",
    "tree = DecisionTreeRegressor(max_depth=5)\n",
    "tree.fit(train_x, train_y)\n",
    "pred_tree = tree.predict(test_x)\n",
    "\n",
    "tree_mse = mean_squared_error(pred_tree, test_y)\n",
    "tree_rmse = np.sqrt(tree_mse)\n",
    "\n",
    "print(\"Tree mse is {}, rmse is {}\".format(tree_mse, tree_rmse))\n",
    "evaluating_model(pred_tree, test_y.values, 1)\n",
    "evaluating_model(pred_tree, test_y.values, 2)"
   ]
  },
  {
   "cell_type": "code",
   "execution_count": 1519,
   "metadata": {},
   "outputs": [
    {
     "name": "stdout",
     "output_type": "stream",
     "text": [
      "Tree mse is 8.618971366899212, rmse is 2.935808469042082\n",
      "34.85% correct within 1 year(s) (291 correct guesses)\n",
      "MAE: 2.0948864120127983\n",
      "62.63% correct within 2 year(s) (523 correct guesses)\n",
      "MAE: 2.0948864120127983\n"
     ]
    }
   ],
   "source": [
    "tree_2 = DecisionTreeRegressor(max_depth=9)\n",
    "tree_2.fit(train_x_removed_features, train_y)\n",
    "pred_tree_2 = tree_2.predict(test_x_removed_features)\n",
    "\n",
    "tree_mse_2 = mean_squared_error(pred_tree_2, test_y)\n",
    "tree_rmse_2 = np.sqrt(tree_mse_2)\n",
    "\n",
    "print(\"Tree mse is {}, rmse is {}\".format(tree_mse_2, tree_rmse_2))\n",
    "evaluating_model(pred_tree_2, test_y.values, 1)\n",
    "evaluating_model(pred_tree_2, test_y.values, 2)"
   ]
  },
  {
   "cell_type": "markdown",
   "metadata": {},
   "source": [
    "## Gradient Boosted Trees\n",
    "\n",
    "#### Trying Gradient boosted trees on different learning rates (referenced https://stackabuse.com/gradient-boosting-classifiers-in-python-with-scikit-learn/) to learn how to test the different learning rates. "
   ]
  },
  {
   "cell_type": "code",
   "execution_count": 1520,
   "metadata": {},
   "outputs": [
    {
     "name": "stdout",
     "output_type": "stream",
     "text": [
      "Learning rate:  0.05\n",
      "65.29% correct within 2 year(s) (2178 correct guesses)\n",
      "MAE: 1.928831389990953\n",
      "47.90% correct within 2 year(s) (400 correct guesses)\n",
      "MAE: 2.540636070555053\n",
      "Learning rate:  0.075\n",
      "67.33% correct within 2 year(s) (2246 correct guesses)\n",
      "MAE: 1.854205371731364\n",
      "47.90% correct within 2 year(s) (400 correct guesses)\n",
      "MAE: 2.56366818324335\n",
      "Learning rate:  0.1\n",
      "69.00% correct within 2 year(s) (2302 correct guesses)\n",
      "MAE: 1.8126418926423553\n",
      "47.90% correct within 2 year(s) (400 correct guesses)\n",
      "MAE: 2.5686520427596364\n",
      "Learning rate:  0.25\n",
      "72.33% correct within 2 year(s) (2413 correct guesses)\n",
      "MAE: 1.6654578556257906\n",
      "47.90% correct within 2 year(s) (400 correct guesses)\n",
      "MAE: 2.546318133973365\n",
      "Learning rate:  0.5\n",
      "73.92% correct within 2 year(s) (2466 correct guesses)\n",
      "MAE: 1.5792433168407927\n",
      "53.29% correct within 2 year(s) (445 correct guesses)\n",
      "MAE: 2.497881063210842\n",
      "Learning rate:  0.75\n",
      "73.68% correct within 2 year(s) (2458 correct guesses)\n",
      "MAE: 1.570478466654048\n",
      "49.10% correct within 2 year(s) (410 correct guesses)\n",
      "MAE: 2.737680676422521\n",
      "Learning rate:  1\n",
      "73.32% correct within 2 year(s) (2446 correct guesses)\n",
      "MAE: 1.5567471284527121\n",
      "37.25% correct within 2 year(s) (311 correct guesses)\n",
      "MAE: 3.172641830376003\n"
     ]
    }
   ],
   "source": [
    "from sklearn.ensemble import GradientBoostingRegressor\n",
    "learning_rate_list = [0.05, 0.075, 0.1, 0.25, 0.5, 0.75, 1]\n",
    "\n",
    "for learning_rate in learning_rate_list:\n",
    "    gb_tree = GradientBoostingRegressor(n_estimators=20, learning_rate=learning_rate, max_features=2, max_depth=2, random_state=0)\n",
    "    gb_tree.fit(train_x, train_y)\n",
    "    pred1 = gb_tree.predict(train_x)\n",
    "    pred2 = gb_tree.predict(test_x)\n",
    "\n",
    "    print(\"Learning rate: \", learning_rate)\n",
    "    evaluating_model(pred1, train_y.values, 2)\n",
    "    evaluating_model(pred2, test_y.values, 2)"
   ]
  },
  {
   "cell_type": "markdown",
   "metadata": {},
   "source": [
    "#### We see above that a learning rate of 0.5 provides a good prediction."
   ]
  },
  {
   "cell_type": "code",
   "execution_count": 1521,
   "metadata": {},
   "outputs": [
    {
     "name": "stdout",
     "output_type": "stream",
     "text": [
      "Learning rate:  0.5\n",
      "29.10% correct within 1 year(s) (243 correct guesses)\n",
      "MAE: 2.497881063210842\n",
      "53.29% correct within 2 year(s) (445 correct guesses)\n",
      "MAE: 2.497881063210842\n"
     ]
    }
   ],
   "source": [
    "gb_tree = GradientBoostingRegressor(n_estimators=20, learning_rate=0.5, max_features=2, max_depth=2, random_state=0)\n",
    "gb_tree.fit(train_x, train_y)\n",
    "pred = gb_tree.predict(test_x)\n",
    "\n",
    "print(\"Learning rate: \", 0.5)\n",
    "evaluating_model(pred, test_y.values, 1)\n",
    "evaluating_model(pred, test_y.values, 2)"
   ]
  },
  {
   "cell_type": "markdown",
   "metadata": {},
   "source": [
    "### Baseline \n",
    "\n",
    "#### Let's compare our model to the baseline (all predictions will be the average of the rings in the training data)"
   ]
  },
  {
   "cell_type": "code",
   "execution_count": 1522,
   "metadata": {},
   "outputs": [
    {
     "name": "stdout",
     "output_type": "stream",
     "text": [
      "Baseline mse is 10.01290895201385, rmse is 3.1643180864151206\n",
      "30.90% correct within 1 year(s) (258 correct guesses)\n",
      "MAE: 2.3896089116730566\n",
      "56.29% correct within 2 year(s) (470 correct guesses)\n",
      "MAE: 2.3896089116730566\n"
     ]
    }
   ],
   "source": [
    "# Using the average number of rings found in training data and using \n",
    "# that as all predictions. \n",
    "avg_y = train_y.mean()\n",
    "\n",
    "# Creating an array of size of the test data filled with the \n",
    "# average ring number obtained above.\n",
    "avg_y_predictions = np.full(len(test_y), fill_value=avg_y)\n",
    "avg_mse = mean_squared_error(avg_y_predictions, test_y)\n",
    "avg_rmse = np.sqrt(avg_mse)\n",
    "\n",
    "print(\"Baseline mse is {}, rmse is {}\".format(avg_mse, avg_rmse))\n",
    "evaluating_model(avg_y_predictions, test_y.values, 1)\n",
    "evaluating_model(avg_y_predictions, test_y.values, 2)"
   ]
  },
  {
   "cell_type": "markdown",
   "metadata": {},
   "source": [
    "## Results\n",
    "\n",
    "#### We can see from the models above that generally logistic regression models make the best predictions. The Logistic Regression model that removed the less correlated features ('sex', viscera_weight', 'shucked_weight') performed the best out of all the models.\n",
    "\n",
    "#### We can also see that the Decision Tree model worked well with the model with the features removed ('sex', viscera_weight', 'shucked_weight') and beat the baseline. However, the Decision Tree model that included all features did not beat the baseline (although it was very close).\n",
    "\n",
    "#### Finally, the Gradient Boosted Tree and Linear Regression models performed worse than the baseline in both cases, with the Linear Regression performing the worst."
   ]
  },
  {
   "cell_type": "code",
   "execution_count": null,
   "metadata": {},
   "outputs": [],
   "source": []
  }
 ],
 "metadata": {
  "kernelspec": {
   "display_name": "Python 3",
   "language": "python",
   "name": "python3"
  },
  "language_info": {
   "codemirror_mode": {
    "name": "ipython",
    "version": 3
   },
   "file_extension": ".py",
   "mimetype": "text/x-python",
   "name": "python",
   "nbconvert_exporter": "python",
   "pygments_lexer": "ipython3",
   "version": "3.7.3"
  }
 },
 "nbformat": 4,
 "nbformat_minor": 2
}
