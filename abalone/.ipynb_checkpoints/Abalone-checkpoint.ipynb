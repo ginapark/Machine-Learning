{
 "cells": [
  {
   "cell_type": "markdown",
   "metadata": {},
   "source": [
    "# Abalone Data Set"
   ]
  },
  {
   "cell_type": "markdown",
   "metadata": {},
   "source": [
    "#### We will be predicting the age of an abalone (number of rings) using various models.\n",
    "\n",
    "\n",
    "## Getting Data\n",
    "\n",
    "#### We begin by loading the data."
   ]
  },
  {
   "cell_type": "code",
   "execution_count": 63,
   "metadata": {},
   "outputs": [
    {
     "data": {
      "text/html": [
       "<div>\n",
       "<style scoped>\n",
       "    .dataframe tbody tr th:only-of-type {\n",
       "        vertical-align: middle;\n",
       "    }\n",
       "\n",
       "    .dataframe tbody tr th {\n",
       "        vertical-align: top;\n",
       "    }\n",
       "\n",
       "    .dataframe thead th {\n",
       "        text-align: right;\n",
       "    }\n",
       "</style>\n",
       "<table border=\"1\" class=\"dataframe\">\n",
       "  <thead>\n",
       "    <tr style=\"text-align: right;\">\n",
       "      <th></th>\n",
       "      <th>sex</th>\n",
       "      <th>length</th>\n",
       "      <th>diameter</th>\n",
       "      <th>height</th>\n",
       "      <th>whole_weight</th>\n",
       "      <th>shucked_weight</th>\n",
       "      <th>viscera_weight</th>\n",
       "      <th>shell_weight</th>\n",
       "      <th>rings</th>\n",
       "    </tr>\n",
       "  </thead>\n",
       "  <tbody>\n",
       "    <tr>\n",
       "      <td>0</td>\n",
       "      <td>M</td>\n",
       "      <td>0.455</td>\n",
       "      <td>0.365</td>\n",
       "      <td>0.095</td>\n",
       "      <td>0.5140</td>\n",
       "      <td>0.2245</td>\n",
       "      <td>0.1010</td>\n",
       "      <td>0.150</td>\n",
       "      <td>15</td>\n",
       "    </tr>\n",
       "    <tr>\n",
       "      <td>1</td>\n",
       "      <td>M</td>\n",
       "      <td>0.350</td>\n",
       "      <td>0.265</td>\n",
       "      <td>0.090</td>\n",
       "      <td>0.2255</td>\n",
       "      <td>0.0995</td>\n",
       "      <td>0.0485</td>\n",
       "      <td>0.070</td>\n",
       "      <td>7</td>\n",
       "    </tr>\n",
       "    <tr>\n",
       "      <td>2</td>\n",
       "      <td>F</td>\n",
       "      <td>0.530</td>\n",
       "      <td>0.420</td>\n",
       "      <td>0.135</td>\n",
       "      <td>0.6770</td>\n",
       "      <td>0.2565</td>\n",
       "      <td>0.1415</td>\n",
       "      <td>0.210</td>\n",
       "      <td>9</td>\n",
       "    </tr>\n",
       "    <tr>\n",
       "      <td>3</td>\n",
       "      <td>M</td>\n",
       "      <td>0.440</td>\n",
       "      <td>0.365</td>\n",
       "      <td>0.125</td>\n",
       "      <td>0.5160</td>\n",
       "      <td>0.2155</td>\n",
       "      <td>0.1140</td>\n",
       "      <td>0.155</td>\n",
       "      <td>10</td>\n",
       "    </tr>\n",
       "    <tr>\n",
       "      <td>4</td>\n",
       "      <td>I</td>\n",
       "      <td>0.330</td>\n",
       "      <td>0.255</td>\n",
       "      <td>0.080</td>\n",
       "      <td>0.2050</td>\n",
       "      <td>0.0895</td>\n",
       "      <td>0.0395</td>\n",
       "      <td>0.055</td>\n",
       "      <td>7</td>\n",
       "    </tr>\n",
       "  </tbody>\n",
       "</table>\n",
       "</div>"
      ],
      "text/plain": [
       "  sex  length  diameter  height  whole_weight  shucked_weight  viscera_weight  \\\n",
       "0   M   0.455     0.365   0.095        0.5140          0.2245          0.1010   \n",
       "1   M   0.350     0.265   0.090        0.2255          0.0995          0.0485   \n",
       "2   F   0.530     0.420   0.135        0.6770          0.2565          0.1415   \n",
       "3   M   0.440     0.365   0.125        0.5160          0.2155          0.1140   \n",
       "4   I   0.330     0.255   0.080        0.2050          0.0895          0.0395   \n",
       "\n",
       "   shell_weight  rings  \n",
       "0         0.150     15  \n",
       "1         0.070      7  \n",
       "2         0.210      9  \n",
       "3         0.155     10  \n",
       "4         0.055      7  "
      ]
     },
     "execution_count": 63,
     "metadata": {},
     "output_type": "execute_result"
    }
   ],
   "source": [
    "import numpy as np\n",
    "import sklearn\n",
    "import os\n",
    "import pandas as pd\n",
    "import matplotlib.pyplot as plt\n",
    "\n",
    "cwd = os.getcwd()\n",
    "\n",
    "ABALONE_PATH = os.path.join(cwd, \"abalone.data\")\n",
    "\n",
    "\n",
    "def load_abalone_data(abalone_path = ABALONE_PATH):\n",
    "    return pd.read_csv(abalone_path,  delimiter = ',', \n",
    "                       names = ['sex', \n",
    "                                'length', \n",
    "                                'diameter', \n",
    "                                'height', \n",
    "                                'whole_weight', \n",
    "                                'shucked_weight',\n",
    "                                'viscera_weight', \n",
    "                                'shell_weight', \n",
    "                                'rings'])\n",
    "\n",
    "data = load_abalone_data()\n",
    "\n",
    "def create_dummy(data, column):\n",
    "    dummy = pd.get_dummies(data[column])\n",
    "    new_data = pd.concat([data, dummy], axis=1)\n",
    "    return new_data\n",
    "\n",
    "data.head()"
   ]
  },
  {
   "cell_type": "code",
   "execution_count": 64,
   "metadata": {},
   "outputs": [
    {
     "name": "stdout",
     "output_type": "stream",
     "text": [
      "<class 'pandas.core.frame.DataFrame'>\n",
      "RangeIndex: 4177 entries, 0 to 4176\n",
      "Data columns (total 9 columns):\n",
      "sex               4177 non-null object\n",
      "length            4177 non-null float64\n",
      "diameter          4177 non-null float64\n",
      "height            4177 non-null float64\n",
      "whole_weight      4177 non-null float64\n",
      "shucked_weight    4177 non-null float64\n",
      "viscera_weight    4177 non-null float64\n",
      "shell_weight      4177 non-null float64\n",
      "rings             4177 non-null int64\n",
      "dtypes: float64(7), int64(1), object(1)\n",
      "memory usage: 293.8+ KB\n"
     ]
    }
   ],
   "source": [
    "data.info()"
   ]
  },
  {
   "cell_type": "markdown",
   "metadata": {},
   "source": [
    "## Data-Clean Up\n",
    "\n",
    "#### We will clean up the training test data. First, we will convert the \"sex\" variable into a dummy variable."
   ]
  },
  {
   "cell_type": "code",
   "execution_count": 65,
   "metadata": {},
   "outputs": [],
   "source": [
    "data = create_dummy(data, \"sex\")\n",
    "data = data.drop(\"sex\", axis=1)\n",
    "data = data.drop(\"I\", axis=1)"
   ]
  },
  {
   "cell_type": "code",
   "execution_count": 66,
   "metadata": {},
   "outputs": [
    {
     "data": {
      "text/html": [
       "<div>\n",
       "<style scoped>\n",
       "    .dataframe tbody tr th:only-of-type {\n",
       "        vertical-align: middle;\n",
       "    }\n",
       "\n",
       "    .dataframe tbody tr th {\n",
       "        vertical-align: top;\n",
       "    }\n",
       "\n",
       "    .dataframe thead th {\n",
       "        text-align: right;\n",
       "    }\n",
       "</style>\n",
       "<table border=\"1\" class=\"dataframe\">\n",
       "  <thead>\n",
       "    <tr style=\"text-align: right;\">\n",
       "      <th></th>\n",
       "      <th>length</th>\n",
       "      <th>diameter</th>\n",
       "      <th>height</th>\n",
       "      <th>whole_weight</th>\n",
       "      <th>shucked_weight</th>\n",
       "      <th>viscera_weight</th>\n",
       "      <th>shell_weight</th>\n",
       "      <th>rings</th>\n",
       "      <th>F</th>\n",
       "      <th>M</th>\n",
       "    </tr>\n",
       "  </thead>\n",
       "  <tbody>\n",
       "    <tr>\n",
       "      <td>count</td>\n",
       "      <td>4177.000000</td>\n",
       "      <td>4177.000000</td>\n",
       "      <td>4177.000000</td>\n",
       "      <td>4177.000000</td>\n",
       "      <td>4177.000000</td>\n",
       "      <td>4177.000000</td>\n",
       "      <td>4177.000000</td>\n",
       "      <td>4177.000000</td>\n",
       "      <td>4177.000000</td>\n",
       "      <td>4177.000000</td>\n",
       "    </tr>\n",
       "    <tr>\n",
       "      <td>mean</td>\n",
       "      <td>0.523992</td>\n",
       "      <td>0.407881</td>\n",
       "      <td>0.139516</td>\n",
       "      <td>0.828742</td>\n",
       "      <td>0.359367</td>\n",
       "      <td>0.180594</td>\n",
       "      <td>0.238831</td>\n",
       "      <td>9.933684</td>\n",
       "      <td>0.312904</td>\n",
       "      <td>0.365813</td>\n",
       "    </tr>\n",
       "    <tr>\n",
       "      <td>std</td>\n",
       "      <td>0.120093</td>\n",
       "      <td>0.099240</td>\n",
       "      <td>0.041827</td>\n",
       "      <td>0.490389</td>\n",
       "      <td>0.221963</td>\n",
       "      <td>0.109614</td>\n",
       "      <td>0.139203</td>\n",
       "      <td>3.224169</td>\n",
       "      <td>0.463731</td>\n",
       "      <td>0.481715</td>\n",
       "    </tr>\n",
       "    <tr>\n",
       "      <td>min</td>\n",
       "      <td>0.075000</td>\n",
       "      <td>0.055000</td>\n",
       "      <td>0.000000</td>\n",
       "      <td>0.002000</td>\n",
       "      <td>0.001000</td>\n",
       "      <td>0.000500</td>\n",
       "      <td>0.001500</td>\n",
       "      <td>1.000000</td>\n",
       "      <td>0.000000</td>\n",
       "      <td>0.000000</td>\n",
       "    </tr>\n",
       "    <tr>\n",
       "      <td>25%</td>\n",
       "      <td>0.450000</td>\n",
       "      <td>0.350000</td>\n",
       "      <td>0.115000</td>\n",
       "      <td>0.441500</td>\n",
       "      <td>0.186000</td>\n",
       "      <td>0.093500</td>\n",
       "      <td>0.130000</td>\n",
       "      <td>8.000000</td>\n",
       "      <td>0.000000</td>\n",
       "      <td>0.000000</td>\n",
       "    </tr>\n",
       "    <tr>\n",
       "      <td>50%</td>\n",
       "      <td>0.545000</td>\n",
       "      <td>0.425000</td>\n",
       "      <td>0.140000</td>\n",
       "      <td>0.799500</td>\n",
       "      <td>0.336000</td>\n",
       "      <td>0.171000</td>\n",
       "      <td>0.234000</td>\n",
       "      <td>9.000000</td>\n",
       "      <td>0.000000</td>\n",
       "      <td>0.000000</td>\n",
       "    </tr>\n",
       "    <tr>\n",
       "      <td>75%</td>\n",
       "      <td>0.615000</td>\n",
       "      <td>0.480000</td>\n",
       "      <td>0.165000</td>\n",
       "      <td>1.153000</td>\n",
       "      <td>0.502000</td>\n",
       "      <td>0.253000</td>\n",
       "      <td>0.329000</td>\n",
       "      <td>11.000000</td>\n",
       "      <td>1.000000</td>\n",
       "      <td>1.000000</td>\n",
       "    </tr>\n",
       "    <tr>\n",
       "      <td>max</td>\n",
       "      <td>0.815000</td>\n",
       "      <td>0.650000</td>\n",
       "      <td>1.130000</td>\n",
       "      <td>2.825500</td>\n",
       "      <td>1.488000</td>\n",
       "      <td>0.760000</td>\n",
       "      <td>1.005000</td>\n",
       "      <td>29.000000</td>\n",
       "      <td>1.000000</td>\n",
       "      <td>1.000000</td>\n",
       "    </tr>\n",
       "  </tbody>\n",
       "</table>\n",
       "</div>"
      ],
      "text/plain": [
       "            length     diameter       height  whole_weight  shucked_weight  \\\n",
       "count  4177.000000  4177.000000  4177.000000   4177.000000     4177.000000   \n",
       "mean      0.523992     0.407881     0.139516      0.828742        0.359367   \n",
       "std       0.120093     0.099240     0.041827      0.490389        0.221963   \n",
       "min       0.075000     0.055000     0.000000      0.002000        0.001000   \n",
       "25%       0.450000     0.350000     0.115000      0.441500        0.186000   \n",
       "50%       0.545000     0.425000     0.140000      0.799500        0.336000   \n",
       "75%       0.615000     0.480000     0.165000      1.153000        0.502000   \n",
       "max       0.815000     0.650000     1.130000      2.825500        1.488000   \n",
       "\n",
       "       viscera_weight  shell_weight        rings            F            M  \n",
       "count     4177.000000   4177.000000  4177.000000  4177.000000  4177.000000  \n",
       "mean         0.180594      0.238831     9.933684     0.312904     0.365813  \n",
       "std          0.109614      0.139203     3.224169     0.463731     0.481715  \n",
       "min          0.000500      0.001500     1.000000     0.000000     0.000000  \n",
       "25%          0.093500      0.130000     8.000000     0.000000     0.000000  \n",
       "50%          0.171000      0.234000     9.000000     0.000000     0.000000  \n",
       "75%          0.253000      0.329000    11.000000     1.000000     1.000000  \n",
       "max          0.760000      1.005000    29.000000     1.000000     1.000000  "
      ]
     },
     "execution_count": 66,
     "metadata": {},
     "output_type": "execute_result"
    }
   ],
   "source": [
    "data.describe()"
   ]
  },
  {
   "cell_type": "markdown",
   "metadata": {},
   "source": [
    "#### We can see that some of our data is inaccurate. We see that the height of the min albaone is 0, which is impossible. We will throw out these inaccurate data points."
   ]
  },
  {
   "cell_type": "code",
   "execution_count": 67,
   "metadata": {},
   "outputs": [],
   "source": [
    "data = data[data.height > 0]"
   ]
  },
  {
   "cell_type": "markdown",
   "metadata": {},
   "source": [
    "#### Let's check for missing data. It seems like our data set is pretty clean."
   ]
  },
  {
   "cell_type": "code",
   "execution_count": 68,
   "metadata": {},
   "outputs": [
    {
     "data": {
      "text/plain": [
       "length            0\n",
       "diameter          0\n",
       "height            0\n",
       "whole_weight      0\n",
       "shucked_weight    0\n",
       "viscera_weight    0\n",
       "shell_weight      0\n",
       "rings             0\n",
       "F                 0\n",
       "M                 0\n",
       "dtype: int64"
      ]
     },
     "execution_count": 68,
     "metadata": {},
     "output_type": "execute_result"
    }
   ],
   "source": [
    "data.isnull().sum()"
   ]
  },
  {
   "cell_type": "code",
   "execution_count": 69,
   "metadata": {},
   "outputs": [
    {
     "data": {
      "image/png": "[encoded data removed]",
      "text/plain": [
       "<Figure size 1440x1080 with 12 Axes>"
      ]
     },
     "metadata": {
      "needs_background": "light"
     },
     "output_type": "display_data"
    }
   ],
   "source": [
    "data.hist(bins=50, figsize=(20,15))\n",
    "plt.show()"
   ]
  },
  {
   "cell_type": "markdown",
   "metadata": {},
   "source": [
    "#### From the histograms and data description table above, we can observe that the weight data is generally skewed to the right. We will have to standardize this data to make it more normally distributed (later in the process).\n"
   ]
  },
  {
   "cell_type": "markdown",
   "metadata": {},
   "source": [
    "## Feature Selection"
   ]
  },
  {
   "cell_type": "markdown",
   "metadata": {},
   "source": [
    "#### Now, we will see which features that we want to include in our models. From the correlation matrix below, we can see that all attributes except for female or male have a relatively positive correlation with age (rings). "
   ]
  },
  {
   "cell_type": "code",
   "execution_count": 70,
   "metadata": {},
   "outputs": [
    {
     "data": {
      "text/plain": [
       "rings             1.000000\n",
       "shell_weight      0.627928\n",
       "diameter          0.574418\n",
       "height            0.557625\n",
       "length            0.556464\n",
       "whole_weight      0.540151\n",
       "viscera_weight    0.503562\n",
       "shucked_weight    0.420597\n",
       "F                 0.250067\n",
       "M                 0.181565\n",
       "Name: rings, dtype: float64"
      ]
     },
     "execution_count": 70,
     "metadata": {},
     "output_type": "execute_result"
    }
   ],
   "source": [
    "corr_matrix = data.corr()\n",
    "corr_matrix[\"rings\"].sort_values(ascending=False)"
   ]
  },
  {
   "cell_type": "code",
   "execution_count": 71,
   "metadata": {},
   "outputs": [
    {
     "data": {
      "image/png": "[encoded data removed]",
      "text/plain": [
       "<Figure size 864x576 with 100 Axes>"
      ]
     },
     "metadata": {
      "needs_background": "light"
     },
     "output_type": "display_data"
    }
   ],
   "source": [
    "from pandas.plotting import scatter_matrix\n",
    "\n",
    "attributes = ['rings',\n",
    "              'length', \n",
    "              'diameter', \n",
    "              'height', \n",
    "              'whole_weight', \n",
    "              'shucked_weight',\n",
    "              'viscera_weight', \n",
    "              'shell_weight', \n",
    "              'F', \n",
    "              'M']\n",
    "matrix = scatter_matrix(data[attributes], figsize=(12, 8))\n"
   ]
  },
  {
   "cell_type": "markdown",
   "metadata": {},
   "source": [
    "#### We can also see from the scatter matrix that the sex of the abalone is a poor indicator of the number of rings (age). Thus, we will drop this from our regression"
   ]
  },
  {
   "cell_type": "code",
   "execution_count": 72,
   "metadata": {},
   "outputs": [
    {
     "data": {
      "text/html": [
       "<div>\n",
       "<style scoped>\n",
       "    .dataframe tbody tr th:only-of-type {\n",
       "        vertical-align: middle;\n",
       "    }\n",
       "\n",
       "    .dataframe tbody tr th {\n",
       "        vertical-align: top;\n",
       "    }\n",
       "\n",
       "    .dataframe thead th {\n",
       "        text-align: right;\n",
       "    }\n",
       "</style>\n",
       "<table border=\"1\" class=\"dataframe\">\n",
       "  <thead>\n",
       "    <tr style=\"text-align: right;\">\n",
       "      <th></th>\n",
       "      <th>length</th>\n",
       "      <th>diameter</th>\n",
       "      <th>height</th>\n",
       "      <th>whole_weight</th>\n",
       "      <th>shucked_weight</th>\n",
       "      <th>viscera_weight</th>\n",
       "      <th>shell_weight</th>\n",
       "      <th>rings</th>\n",
       "    </tr>\n",
       "  </thead>\n",
       "  <tbody>\n",
       "    <tr>\n",
       "      <td>0</td>\n",
       "      <td>0.455</td>\n",
       "      <td>0.365</td>\n",
       "      <td>0.095</td>\n",
       "      <td>0.5140</td>\n",
       "      <td>0.2245</td>\n",
       "      <td>0.1010</td>\n",
       "      <td>0.150</td>\n",
       "      <td>15</td>\n",
       "    </tr>\n",
       "    <tr>\n",
       "      <td>1</td>\n",
       "      <td>0.350</td>\n",
       "      <td>0.265</td>\n",
       "      <td>0.090</td>\n",
       "      <td>0.2255</td>\n",
       "      <td>0.0995</td>\n",
       "      <td>0.0485</td>\n",
       "      <td>0.070</td>\n",
       "      <td>7</td>\n",
       "    </tr>\n",
       "    <tr>\n",
       "      <td>2</td>\n",
       "      <td>0.530</td>\n",
       "      <td>0.420</td>\n",
       "      <td>0.135</td>\n",
       "      <td>0.6770</td>\n",
       "      <td>0.2565</td>\n",
       "      <td>0.1415</td>\n",
       "      <td>0.210</td>\n",
       "      <td>9</td>\n",
       "    </tr>\n",
       "    <tr>\n",
       "      <td>3</td>\n",
       "      <td>0.440</td>\n",
       "      <td>0.365</td>\n",
       "      <td>0.125</td>\n",
       "      <td>0.5160</td>\n",
       "      <td>0.2155</td>\n",
       "      <td>0.1140</td>\n",
       "      <td>0.155</td>\n",
       "      <td>10</td>\n",
       "    </tr>\n",
       "    <tr>\n",
       "      <td>4</td>\n",
       "      <td>0.330</td>\n",
       "      <td>0.255</td>\n",
       "      <td>0.080</td>\n",
       "      <td>0.2050</td>\n",
       "      <td>0.0895</td>\n",
       "      <td>0.0395</td>\n",
       "      <td>0.055</td>\n",
       "      <td>7</td>\n",
       "    </tr>\n",
       "  </tbody>\n",
       "</table>\n",
       "</div>"
      ],
      "text/plain": [
       "   length  diameter  height  whole_weight  shucked_weight  viscera_weight  \\\n",
       "0   0.455     0.365   0.095        0.5140          0.2245          0.1010   \n",
       "1   0.350     0.265   0.090        0.2255          0.0995          0.0485   \n",
       "2   0.530     0.420   0.135        0.6770          0.2565          0.1415   \n",
       "3   0.440     0.365   0.125        0.5160          0.2155          0.1140   \n",
       "4   0.330     0.255   0.080        0.2050          0.0895          0.0395   \n",
       "\n",
       "   shell_weight  rings  \n",
       "0         0.150     15  \n",
       "1         0.070      7  \n",
       "2         0.210      9  \n",
       "3         0.155     10  \n",
       "4         0.055      7  "
      ]
     },
     "execution_count": 72,
     "metadata": {},
     "output_type": "execute_result"
    }
   ],
   "source": [
    "data = data.drop(\"M\", axis=1)\n",
    "data = data.drop(\"F\", axis=1)\n",
    "data.head()"
   ]
  },
  {
   "cell_type": "markdown",
   "metadata": {},
   "source": [
    "#### We also observe that 'viscera_weight' and 'shucked_weight' aren't as positively correlated with the number of rings as the other features. We will run two models, one with all features except for 'sex' included and one with all features except for 'sex', viscera_weight', 'shucked_weight'.\n",
    "\n",
    "#### We now begin splitting the data."
   ]
  },
  {
   "cell_type": "markdown",
   "metadata": {},
   "source": [
    "## Train-Test Split \n",
    "\n",
    "#### Now we will split our data into training and testing sets"
   ]
  },
  {
   "cell_type": "code",
   "execution_count": 73,
   "metadata": {},
   "outputs": [],
   "source": [
    "from sklearn.model_selection import train_test_split\n",
    "data_y = data[\"rings\"]\n",
    "data_x = data.drop(columns=['rings'])\n",
    "data_x_modified = data.drop(columns=['rings', 'viscera_weight', 'shucked_weight'])\n",
    "\n",
    "\n",
    "train, test = train_test_split(data, test_size=0.2, random_state=32)"
   ]
  },
  {
   "cell_type": "code",
   "execution_count": 74,
   "metadata": {},
   "outputs": [],
   "source": [
    "train_y = train[\"rings\"]\n",
    "train_x = train.drop(columns=['rings'])\n",
    "train_x_removed_features = train.drop(columns=['rings', 'viscera_weight','shucked_weight'])\n",
    "\n",
    "test_y = test[\"rings\"]\n",
    "test_x = test.drop(columns=['rings'])\n",
    "test_x_removed_features = test.drop(columns=['rings', 'viscera_weight', 'shucked_weight'])\n",
    "\n"
   ]
  },
  {
   "cell_type": "markdown",
   "metadata": {},
   "source": [
    "#### As discussed previously, our data is skewed. We will apply a standard scaler to scale and standardize the data."
   ]
  },
  {
   "cell_type": "code",
   "execution_count": 75,
   "metadata": {},
   "outputs": [],
   "source": [
    "from sklearn.preprocessing import StandardScaler\n",
    "\n",
    "process = StandardScaler()\n",
    "\n",
    "train_x = process.fit_transform(train_x)\n",
    "train_x_removed_features = process.fit_transform(train_x_removed_features)\n"
   ]
  },
  {
   "cell_type": "markdown",
   "metadata": {},
   "source": [
    "## Models\n",
    "\n",
    "#### First, we'll write a function to evaluate all our models. This function returns the correct output within a certain acceptable range as well as the Mean Average Error.\n"
   ]
  },
  {
   "cell_type": "code",
   "execution_count": 76,
   "metadata": {},
   "outputs": [],
   "source": [
    "def evaluating_model(predictions, actual, acceptable_range):\n",
    "    total = len(predictions)\n",
    "    correct = 0\n",
    "    mae = 0\n",
    "    \n",
    "    for i in range(total):\n",
    "        difference = abs(predictions[i] - actual[i])\n",
    "        if difference <= acceptable_range:\n",
    "            correct += 1\n",
    "        mae += difference\n",
    "    \n",
    "    percent_correct = (correct / total) * 100\n",
    "    mae = mae / total\n",
    "    \n",
    "    print(\"{:0.2f}% correct within {} year(s) ({} correct guesses)\".format(\n",
    "            percent_correct, acceptable_range, correct))\n",
    "    print(\"MAE: {:0.2f}\".format(mae))\n",
    "        "
   ]
  },
  {
   "cell_type": "markdown",
   "metadata": {},
   "source": [
    "## Linear Regressions"
   ]
  },
  {
   "cell_type": "markdown",
   "metadata": {},
   "source": [
    "### Model with All Features (except 'sex')"
   ]
  },
  {
   "cell_type": "code",
   "execution_count": 77,
   "metadata": {},
   "outputs": [
    {
     "name": "stdout",
     "output_type": "stream",
     "text": [
      "Linear Reg 1 mse is 13.227892184109583, rmse is 3.6370169348120425\n",
      "10.18% correct within 1 year(s) (85 correct guesses)\n",
      "MAE: 3.25\n",
      "23.23% correct within 2 year(s) (194 correct guesses)\n",
      "MAE: 3.25\n"
     ]
    }
   ],
   "source": [
    "from sklearn.linear_model import LinearRegression\n",
    "from sklearn.metrics import mean_squared_error\n",
    "\n",
    "lin_reg = LinearRegression()\n",
    "lin_reg.fit(train_x, train_y)\n",
    "\n",
    "pred_lin = lin_reg.predict(test_x)\n",
    "\n",
    "lin_mse = mean_squared_error(test_y, pred_lin)\n",
    "lin_rmse = np.sqrt(lin_mse)\n",
    "\n",
    "print(\"Linear Reg 1 mse is {}, rmse is {}\".format(lin_mse, lin_rmse))\n",
    "evaluating_model(pred_lin, test_y.values, 1)\n",
    "evaluating_model(pred_lin, test_y.values, 2)\n"
   ]
  },
  {
   "cell_type": "markdown",
   "metadata": {},
   "source": [
    "### Model with Removals ('sex', viscera_weight', 'shucked_weight')"
   ]
  },
  {
   "cell_type": "code",
   "execution_count": 78,
   "metadata": {},
   "outputs": [
    {
     "name": "stdout",
     "output_type": "stream",
     "text": [
      "Linear Reg 2 mse is 15.290392849482291, rmse is 3.9102931922660598\n",
      "21.92% correct within 1 year(s) (183 correct guesses)\n",
      "MAE: 2.92\n",
      "44.55% correct within 2 year(s) (372 correct guesses)\n",
      "MAE: 2.92\n"
     ]
    }
   ],
   "source": [
    "lin_reg_2 = LinearRegression()\n",
    "lin_reg_2.fit(train_x_removed_features, train_y)\n",
    "\n",
    "pred_lin_2 = lin_reg_2.predict(test_x_removed_features)\n",
    "\n",
    "lin_mse_2 = mean_squared_error(test_y, pred_lin_2)\n",
    "lin_rmse_2 = np.sqrt(lin_mse_2)\n",
    "\n",
    "print(\"Linear Reg 2 mse is {}, rmse is {}\".format(lin_mse_2, lin_rmse_2))\n",
    "evaluating_model(pred_lin_2, test_y.values, 1)\n",
    "evaluating_model(pred_lin_2, test_y.values, 2)\n"
   ]
  },
  {
   "cell_type": "markdown",
   "metadata": {},
   "source": [
    "### Trying Elastic Net Regression"
   ]
  },
  {
   "cell_type": "code",
   "execution_count": 79,
   "metadata": {},
   "outputs": [
    {
     "name": "stdout",
     "output_type": "stream",
     "text": [
      "Elastic Reg mse is 10.051310651478637, rmse is 3.1703802061391055\n",
      "27.78% correct within 1 year(s) (232 correct guesses)\n",
      "MAE: 2.35\n",
      "50.42% correct within 2 year(s) (421 correct guesses)\n",
      "MAE: 2.35\n"
     ]
    }
   ],
   "source": [
    "from sklearn.linear_model import LinearRegression, Ridge, Lasso, ElasticNet\n",
    "elastic_reg = ElasticNet(alpha=0.1, l1_ratio=0.5)\n",
    "elastic_reg.fit(train_x_removed_features, train_y)\n",
    "\n",
    "pred_elastic = elastic_reg.predict(test_x_removed_features)\n",
    "\n",
    "elastic_mse = mean_squared_error(test_y, pred_elastic)\n",
    "elastic_rmse = np.sqrt(elastic_mse)\n",
    "\n",
    "print(\"Elastic Reg mse is {}, rmse is {}\".format(elastic_mse, elastic_rmse))\n",
    "evaluating_model(pred_elastic, test_y.values, 1)\n",
    "evaluating_model(pred_elastic, test_y.values, 2)"
   ]
  },
  {
   "cell_type": "markdown",
   "metadata": {},
   "source": [
    "## Logistic Regressions\n",
    "\n",
    "### Model with All Features (except 'sex')"
   ]
  },
  {
   "cell_type": "code",
   "execution_count": 80,
   "metadata": {},
   "outputs": [
    {
     "name": "stdout",
     "output_type": "stream",
     "text": [
      "Test mse is 9.178443113772454, rmse is 3.029594546102243\n",
      "41.68% correct within 1 year(s) (348 correct guesses)\n",
      "MAE: 2.26\n",
      "64.55% correct within 2 year(s) (539 correct guesses)\n",
      "MAE: 2.26\n"
     ]
    }
   ],
   "source": [
    "from sklearn.linear_model import LogisticRegression\n",
    "log_reg = LogisticRegression(multi_class=\"auto\",solver=\"lbfgs\", max_iter=1000)\n",
    "log_reg.fit(train_x, train_y)\n",
    "\n",
    "pred_log = log_reg.predict(test_x)\n",
    "\n",
    "log_mse = mean_squared_error(test_y, pred_log)\n",
    "log_rmse = np.sqrt(log_mse)\n",
    "\n",
    "print(\"Test mse is {}, rmse is {}\".format(log_mse, log_rmse))\n",
    "evaluating_model(pred_log, test_y.values, 1)\n",
    "evaluating_model(pred_log, test_y.values, 2)"
   ]
  },
  {
   "cell_type": "markdown",
   "metadata": {},
   "source": [
    "### Model with Removals ('sex', viscera_weight', 'shucked_weight')"
   ]
  },
  {
   "cell_type": "code",
   "execution_count": 81,
   "metadata": {},
   "outputs": [
    {
     "name": "stdout",
     "output_type": "stream",
     "text": [
      "Test mse is 9.487425149700599, rmse is 3.0801664159101207\n",
      "50.30% correct within 1 year(s) (420 correct guesses)\n",
      "MAE: 2.14\n",
      "69.70% correct within 2 year(s) (582 correct guesses)\n",
      "MAE: 2.14\n"
     ]
    }
   ],
   "source": [
    "log_reg_2 = LogisticRegression(multi_class=\"auto\",solver=\"liblinear\", max_iter=500)\n",
    "log_reg_2.fit(train_x_removed_features, train_y)\n",
    "\n",
    "pred_log_2 = log_reg_2.predict(test_x_removed_features)\n",
    "\n",
    "log_mse_2 = mean_squared_error(test_y, pred_log_2)\n",
    "log_rmse_2 = np.sqrt(log_mse_2)\n",
    "\n",
    "print(\"Test mse is {}, rmse is {}\".format(log_mse_2, log_rmse_2))\n",
    "evaluating_model(pred_log_2, test_y.values, 1)\n",
    "evaluating_model(pred_log_2, test_y.values, 2)\n",
    "\n"
   ]
  },
  {
   "cell_type": "markdown",
   "metadata": {},
   "source": [
    "## Decision Trees\n",
    "\n",
    "#### Now, let's try using a decision tree. After trial and error, it seems like a max_depth of 5 minimizes the errors."
   ]
  },
  {
   "cell_type": "code",
   "execution_count": 82,
   "metadata": {},
   "outputs": [
    {
     "name": "stdout",
     "output_type": "stream",
     "text": [
      "Tree mse is 9.480239520958083, rmse is 3.078999759817802\n",
      "45.15% correct within 1 year(s) (377 correct guesses)\n",
      "MAE: 2.19\n",
      "69.58% correct within 2 year(s) (581 correct guesses)\n",
      "MAE: 2.19\n"
     ]
    }
   ],
   "source": [
    "from sklearn.tree import DecisionTreeRegressor\n",
    "tree = DecisionTreeRegressor(max_depth=5, criterion='mae')\n",
    "tree.fit(train_x, train_y)\n",
    "pred_tree = tree.predict(test_x)\n",
    "\n",
    "tree_mse = mean_squared_error(pred_tree, test_y)\n",
    "tree_rmse = np.sqrt(tree_mse)\n",
    "\n",
    "print(\"Tree mse is {}, rmse is {}\".format(tree_mse, tree_rmse))\n",
    "evaluating_model(pred_tree, test_y.values, 1)\n",
    "evaluating_model(pred_tree, test_y.values, 2)\n"
   ]
  },
  {
   "cell_type": "code",
   "execution_count": 83,
   "metadata": {},
   "outputs": [
    {
     "name": "stdout",
     "output_type": "stream",
     "text": [
      "Tree mse is 9.190419161676648, rmse is 3.031570411795947\n",
      "45.99% correct within 1 year(s) (384 correct guesses)\n",
      "MAE: 2.16\n",
      "69.82% correct within 2 year(s) (583 correct guesses)\n",
      "MAE: 2.16\n"
     ]
    }
   ],
   "source": [
    "tree_2 = DecisionTreeRegressor(max_depth=5, criterion='mae')\n",
    "tree_2.fit(train_x_removed_features, train_y)\n",
    "pred_tree_2 = tree_2.predict(test_x_removed_features)\n",
    "\n",
    "tree_mse_2 = mean_squared_error(pred_tree_2, test_y)\n",
    "tree_rmse_2 = np.sqrt(tree_mse_2)\n",
    "\n",
    "print(\"Tree mse is {}, rmse is {}\".format(tree_mse_2, tree_rmse_2))\n",
    "evaluating_model(pred_tree_2, test_y.values, 1)\n",
    "evaluating_model(pred_tree_2, test_y.values, 2)"
   ]
  },
  {
   "cell_type": "markdown",
   "metadata": {},
   "source": [
    "## Gradient Boosted Trees\n",
    "\n",
    "#### Trying Gradient boosted trees on different learning rates (referenced https://stackabuse.com/gradient-boosting-classifiers-in-python-with-scikit-learn/) to learn how to test the different learning rates. "
   ]
  },
  {
   "cell_type": "code",
   "execution_count": 84,
   "metadata": {},
   "outputs": [
    {
     "name": "stdout",
     "output_type": "stream",
     "text": [
      "Learning rate:  0.05\n",
      "70.09% correct within 2 year(s) (2341 correct guesses)\n",
      "MAE: 1.86\n",
      "59.04% correct within 2 year(s) (493 correct guesses)\n",
      "MAE: 2.30\n",
      "Learning rate:  0.075\n",
      "73.20% correct within 2 year(s) (2445 correct guesses)\n",
      "MAE: 1.76\n",
      "52.34% correct within 2 year(s) (437 correct guesses)\n",
      "MAE: 2.30\n",
      "Learning rate:  0.1\n",
      "74.13% correct within 2 year(s) (2476 correct guesses)\n",
      "MAE: 1.70\n",
      "56.41% correct within 2 year(s) (471 correct guesses)\n",
      "MAE: 2.26\n",
      "Learning rate:  0.25\n",
      "75.96% correct within 2 year(s) (2537 correct guesses)\n",
      "MAE: 1.58\n",
      "57.13% correct within 2 year(s) (477 correct guesses)\n",
      "MAE: 2.21\n",
      "Learning rate:  0.5\n",
      "75.21% correct within 2 year(s) (2512 correct guesses)\n",
      "MAE: 1.56\n",
      "53.53% correct within 2 year(s) (447 correct guesses)\n",
      "MAE: 2.18\n",
      "Learning rate:  0.75\n",
      "76.71% correct within 2 year(s) (2562 correct guesses)\n",
      "MAE: 1.51\n",
      "56.89% correct within 2 year(s) (475 correct guesses)\n",
      "MAE: 2.22\n",
      "Learning rate:  1\n",
      "81.17% correct within 2 year(s) (2711 correct guesses)\n",
      "MAE: 1.64\n",
      "61.68% correct within 2 year(s) (515 correct guesses)\n",
      "MAE: 2.29\n"
     ]
    }
   ],
   "source": [
    "from sklearn.ensemble import GradientBoostingRegressor\n",
    "learning_rate_list = [0.05, 0.075, 0.1, 0.25, 0.5, 0.75, 1]\n",
    "\n",
    "for learning_rate in learning_rate_list:\n",
    "    gb_tree = GradientBoostingRegressor(n_estimators=20, learning_rate=learning_rate, max_features=2, max_depth=2, random_state=0, criterion='mae')\n",
    "    gb_tree.fit(train_x, train_y)\n",
    "    pred1 = gb_tree.predict(train_x)\n",
    "    pred2 = gb_tree.predict(test_x)\n",
    "\n",
    "    print(\"Learning rate: \", learning_rate)\n",
    "    evaluating_model(pred1, train_y.values, 2)\n",
    "    evaluating_model(pred2, test_y.values, 2)"
   ]
  },
  {
   "cell_type": "markdown",
   "metadata": {},
   "source": [
    "#### We see above that a learning rate of 0.5 provides a good prediction."
   ]
  },
  {
   "cell_type": "code",
   "execution_count": 85,
   "metadata": {},
   "outputs": [
    {
     "name": "stdout",
     "output_type": "stream",
     "text": [
      "Learning rate:  0.25\n",
      "32.57% correct within 1 year(s) (272 correct guesses)\n",
      "MAE: 2.21\n",
      "57.13% correct within 2 year(s) (477 correct guesses)\n",
      "MAE: 2.21\n"
     ]
    }
   ],
   "source": [
    "gb_tree = GradientBoostingRegressor(n_estimators=20, learning_rate=0.25, max_features=2, max_depth=2, random_state=0, criterion='mae')\n",
    "gb_tree.fit(train_x, train_y)\n",
    "pred = gb_tree.predict(test_x)\n",
    "\n",
    "gb_tree_mse = mean_squared_error(pred, test_y)\n",
    "gb_tree_rmse = np.sqrt(gb_tree_mse)\n",
    "\n",
    "print(\"Learning rate: \", 0.25)\n",
    "evaluating_model(pred, test_y.values, 1)\n",
    "evaluating_model(pred, test_y.values, 2)"
   ]
  },
  {
   "cell_type": "markdown",
   "metadata": {},
   "source": [
    "### Baseline \n",
    "\n",
    "#### Let's compare our model to the baseline (all predictions will be the average of the rings in the training data)"
   ]
  },
  {
   "cell_type": "code",
   "execution_count": 86,
   "metadata": {},
   "outputs": [
    {
     "name": "stdout",
     "output_type": "stream",
     "text": [
      "Baseline mse is 10.55, rmse is 3.25\n",
      "30.90% correct within 1 year(s) (258 correct guesses)\n",
      "MAE: 2.35\n",
      "57.49% correct within 2 year(s) (480 correct guesses)\n",
      "MAE: 2.35\n",
      "\n",
      "Linear Reg 1 mse is 13.23, rmse is 3.64\n",
      "10.18% correct within 1 year(s) (85 correct guesses)\n",
      "MAE: 3.25\n",
      "23.23% correct within 2 year(s) (194 correct guesses)\n",
      "MAE: 3.25\n",
      "\n",
      "Linear Reg 2 mse is 15.29, rmse is 3.91\n",
      "21.92% correct within 1 year(s) (183 correct guesses)\n",
      "MAE: 2.92\n",
      "44.55% correct within 2 year(s) (372 correct guesses)\n",
      "MAE: 2.92\n",
      "\n",
      "Elastic Reg mse is 10.05, rmse is 3.17\n",
      "27.78% correct within 1 year(s) (232 correct guesses)\n",
      "MAE: 2.35\n",
      "50.42% correct within 2 year(s) (421 correct guesses)\n",
      "MAE: 2.35\n",
      "\n",
      "Logistic Reg 1 mse is 9.18, rmse is 3.03\n",
      "41.68% correct within 1 year(s) (348 correct guesses)\n",
      "MAE: 2.26\n",
      "64.55% correct within 2 year(s) (539 correct guesses)\n",
      "MAE: 2.26\n",
      "\n",
      "Logistic Reg 2 mse is 9.49, rmse is 3.08\n",
      "50.30% correct within 1 year(s) (420 correct guesses)\n",
      "MAE: 2.14\n",
      "69.70% correct within 2 year(s) (582 correct guesses)\n",
      "MAE: 2.14\n",
      "\n",
      "Decision Tree 1 mse is 9.48, rmse is 3.08\n",
      "45.15% correct within 1 year(s) (377 correct guesses)\n",
      "MAE: 2.19\n",
      "69.58% correct within 2 year(s) (581 correct guesses)\n",
      "MAE: 2.19\n",
      "\n",
      "Decision Tree 2 mse is 9.19, rmse is 3.03\n",
      "45.99% correct within 1 year(s) (384 correct guesses)\n",
      "MAE: 2.16\n",
      "69.82% correct within 2 year(s) (583 correct guesses)\n",
      "MAE: 2.16\n",
      "\n",
      "Gradient Boosted Tree mse is 9.47, rmse is 3.08\n",
      "32.57% correct within 1 year(s) (272 correct guesses)\n",
      "MAE: 2.21\n",
      "57.13% correct within 2 year(s) (477 correct guesses)\n",
      "MAE: 2.21\n",
      "\n"
     ]
    }
   ],
   "source": [
    "# Using the average number of rings found in training data and using \n",
    "# that as all predictions. \n",
    "avg_y = train_y.mean()\n",
    "\n",
    "# Creating an array of size of the test data filled with the \n",
    "# average ring number obtained above.\n",
    "avg_y_predictions = np.full(len(test_y), fill_value=avg_y)\n",
    "avg_mse = mean_squared_error(avg_y_predictions, test_y)\n",
    "avg_rmse = np.sqrt(avg_mse)\n",
    "\n",
    "models = [[\"Baseline\", avg_mse, avg_rmse, avg_y_predictions],\n",
    "          [\"Linear Reg 1\", lin_mse, lin_rmse, pred_lin],\n",
    "          [\"Linear Reg 2\", lin_mse_2, lin_rmse_2, pred_lin_2],\n",
    "          [\"Elastic Reg\", elastic_mse, elastic_rmse, pred_elastic],\n",
    "          [\"Logistic Reg 1\", log_mse, log_rmse, pred_log],\n",
    "          [\"Logistic Reg 2\", log_mse_2, log_rmse_2, pred_log_2],\n",
    "          [\"Decision Tree 1\", tree_mse, tree_rmse, pred_tree],\n",
    "          [\"Decision Tree 2\", tree_mse_2, tree_rmse_2, pred_tree_2],\n",
    "          [\"Gradient Boosted Tree\", gb_tree_mse, gb_tree_rmse, pred]]\n",
    "\n",
    "for model in models:\n",
    "    print(\"{} mse is {:0.2f}, rmse is {:0.2f}\".format(\n",
    "        model[0], model[1], model[2]))\n",
    "    evaluating_model(model[3], test_y.values, 1)\n",
    "    evaluating_model(model[3], test_y.values, 2)\n",
    "    print()"
   ]
  },
  {
   "cell_type": "markdown",
   "metadata": {},
   "source": [
    "## Cross-Validation\n",
    "\n",
    "#### Let's also test our models with cross-validation (k-folds)"
   ]
  },
  {
   "cell_type": "code",
   "execution_count": 89,
   "metadata": {},
   "outputs": [
    {
     "name": "stdout",
     "output_type": "stream",
     "text": [
      "Model: Linear Reg 1\n",
      "RMSE: [2.62310307 3.42355378 1.74335408 1.71213992 2.06109912 2.93530924\n",
      " 1.60409556 2.29042571 1.92739841 2.09038944]\n",
      "RMSE Mean: 2.2410868329189464\n",
      "Standard deviation: 0.558151400625446\n",
      "\n",
      "Model: Linear Reg 2\n",
      "RMSE: [2.82703037 3.79805477 1.75337714 1.7876121  2.1958502  3.18574085\n",
      " 1.59566297 2.36595974 2.09701444 2.20884221]\n",
      "RMSE Mean: 2.381514480058976\n",
      "Standard deviation: 0.660466437769354\n",
      "\n",
      "Model: Elastic Reg\n",
      "RMSE: [2.8466727  3.7864444  1.75382563 1.64143738 1.97392138 3.24835423\n",
      " 1.56333105 2.33500034 1.99113957 2.11133907]\n",
      "RMSE Mean: 2.325146575064941\n",
      "Standard deviation: 0.7010458293447425\n",
      "\n"
     ]
    },
    {
     "name": "stderr",
     "output_type": "stream",
     "text": [
      "/Users/gp/anaconda3/lib/python3.7/site-packages/sklearn/model_selection/_split.py:657: Warning: The least populated class in y has only 1 members, which is too few. The minimum number of members in any class cannot be less than n_splits=10.\n",
      "  % (min_groups, self.n_splits)), Warning)\n"
     ]
    },
    {
     "name": "stdout",
     "output_type": "stream",
     "text": [
      "Model: Logistic Reg 1\n",
      "RMSE: [2.76191519 2.62263611 2.63141595 2.66141605 2.42156185 2.60694516\n",
      " 2.30311698 2.46441669 2.35696469 2.30726175]\n",
      "RMSE Mean: 2.5137650422264497\n",
      "Standard deviation: 0.1550147563300376\n",
      "\n"
     ]
    },
    {
     "name": "stderr",
     "output_type": "stream",
     "text": [
      "/Users/gp/anaconda3/lib/python3.7/site-packages/sklearn/model_selection/_split.py:657: Warning: The least populated class in y has only 1 members, which is too few. The minimum number of members in any class cannot be less than n_splits=10.\n",
      "  % (min_groups, self.n_splits)), Warning)\n"
     ]
    },
    {
     "name": "stdout",
     "output_type": "stream",
     "text": [
      "Model: Logistic Reg 2\n",
      "RMSE: [3.38349478 3.12727669 3.03174692 2.88167278 2.73970192 2.91979106\n",
      " 2.64803272 2.72316873 2.67346594 2.61713254]\n",
      "RMSE Mean: 2.8745484075737124\n",
      "Standard deviation: 0.23426755025588503\n",
      "\n",
      "Model: Decision Tree 1\n",
      "RMSE: [3.26629152 3.97179048 1.49760574 1.46897745 1.55770196 3.62611101\n",
      " 1.29192289 2.70945144 1.91751363 2.26920263]\n",
      "RMSE Mean: 2.3576568747148814\n",
      "Standard deviation: 0.9311544241348121\n",
      "\n",
      "Model: Decision Tree 2\n",
      "RMSE: [3.3980363  4.17177518 1.58416204 1.43040296 1.55173926 3.8262629\n",
      " 1.53222773 2.77190426 1.89281109 2.25688395]\n",
      "RMSE Mean: 2.4416205680568885\n",
      "Standard deviation: 0.9821653342000862\n",
      "\n",
      "Model: Gradient Boosted Tree\n",
      "RMSE: [3.319592   4.22966549 1.45420871 1.28469782 1.35642666 3.73767582\n",
      " 1.29570019 2.63190338 1.95983125 2.15907785]\n",
      "RMSE Mean: 2.342877918198855\n",
      "Standard deviation: 1.0345330923947433\n",
      "\n"
     ]
    }
   ],
   "source": [
    "from sklearn.model_selection import cross_val_score\n",
    "\n",
    "process = StandardScaler()\n",
    "\n",
    "data_x = process.fit_transform(data_x)\n",
    "\n",
    "\n",
    "models = [[\"Linear Reg 1\", lin_reg, data_x],\n",
    "          [\"Linear Reg 2\", lin_reg_2, data_x_modified],\n",
    "          [\"Elastic Reg\", elastic_reg, data_x],\n",
    "          [\"Logistic Reg 1\", log_reg, data_x],\n",
    "          [\"Logistic Reg 2\", log_reg_2, data_x_modified],\n",
    "          [\"Decision Tree 1\", tree, data_x],\n",
    "          [\"Decision Tree 2\", tree_2, data_x_modified],\n",
    "          [\"Gradient Boosted Tree\", gb_tree, data_x]]\n",
    "\n",
    "def cross_validate_model(models):\n",
    "    for model in models:\n",
    "        scores = cross_val_score(model[1], model[2], data_y,\n",
    "                scoring='neg_mean_squared_error', cv=10)\n",
    "\n",
    "        rmse_scores = np.sqrt(-scores)\n",
    "        \n",
    "        print(\"Model: {}\".format(model[0]))\n",
    "        print(\"RMSE:\", rmse_scores)\n",
    "        print(\"RMSE Mean:\", rmse_scores.mean())\n",
    "        print(\"Standard deviation:\", rmse_scores.std())\n",
    "        print()\n",
    "\n",
    "cross_validate_model(models)"
   ]
  },
  {
   "cell_type": "markdown",
   "metadata": {},
   "source": [
    "## Results\n",
    "\n",
    "### Train-Test Split Result\n",
    "\n",
    "#### We can see from the models above that generally logistic regression models make the best predictions. The Logistic Regression model that removed the less correlated features ('sex', viscera_weight', 'shucked_weight') performed the best out of all the models.\n",
    "\n",
    "#### We can also see that the Decision Tree model worked well with the model with the features removed ('sex', viscera_weight', 'shucked_weight') and beat the baseline. However, the Decision Tree model that included all features did not beat the baseline (although it was very close).\n",
    "\n",
    "#### Finally, the Gradient Boosted Tree and Linear Regression models performed worse than or similarily to the baseline in both cases, with the Linear Regression performing the worst.\n",
    "\n",
    "### Cross-Validation Result\n",
    "\n",
    "#### However, when we validate our models using the cross-validation k-folds method, we see that the Linear Regression models as well as the Gradient Boosted Tree performed the best. This result implies that our test-train split models were overfitting our training data. This particularly occured because this data set was farily small."
   ]
  }
 ],
 "metadata": {
  "kernelspec": {
   "display_name": "Python 3",
   "language": "python",
   "name": "python3"
  },
  "language_info": {
   "codemirror_mode": {
    "name": "ipython",
    "version": 3
   },
   "file_extension": ".py",
   "mimetype": "text/x-python",
   "name": "python",
   "nbconvert_exporter": "python",
   "pygments_lexer": "ipython3",
   "version": "3.7.3"
  }
 },
 "nbformat": 4,
 "nbformat_minor": 2
}
