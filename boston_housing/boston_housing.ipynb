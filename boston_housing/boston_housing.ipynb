{
 "cells": [
  {
   "cell_type": "markdown",
   "metadata": {},
   "source": [
    "# Boston Housing Data Set"
   ]
  },
  {
   "cell_type": "markdown",
   "metadata": {},
   "source": [
    "#### We will be predicting:\n",
    "1. NOX (nitric oxides concentration)\n",
    "2. median home value"
   ]
  },
  {
   "cell_type": "markdown",
   "metadata": {},
   "source": [
    "## Getting Data\n",
    "\n",
    "#### The data was cleaned and transformed into a csv file (please see clean_data.py file for details). h\n",
    "\n",
    "#### houses.csv is now ready to be loaded."
   ]
  },
  {
   "cell_type": "code",
   "execution_count": 103,
   "metadata": {},
   "outputs": [
    {
     "data": {
      "text/html": [
       "<div>\n",
       "<style scoped>\n",
       "    .dataframe tbody tr th:only-of-type {\n",
       "        vertical-align: middle;\n",
       "    }\n",
       "\n",
       "    .dataframe tbody tr th {\n",
       "        vertical-align: top;\n",
       "    }\n",
       "\n",
       "    .dataframe thead th {\n",
       "        text-align: right;\n",
       "    }\n",
       "</style>\n",
       "<table border=\"1\" class=\"dataframe\">\n",
       "  <thead>\n",
       "    <tr style=\"text-align: right;\">\n",
       "      <th></th>\n",
       "      <th>CRIM</th>\n",
       "      <th>ZN</th>\n",
       "      <th>INDUS</th>\n",
       "      <th>CHAS</th>\n",
       "      <th>NOX</th>\n",
       "      <th>RM</th>\n",
       "      <th>AGE</th>\n",
       "      <th>DIS</th>\n",
       "      <th>RAD</th>\n",
       "      <th>TAX</th>\n",
       "      <th>PTRATIO</th>\n",
       "      <th>B</th>\n",
       "      <th>LSTAT</th>\n",
       "      <th>MEDV</th>\n",
       "    </tr>\n",
       "  </thead>\n",
       "  <tbody>\n",
       "    <tr>\n",
       "      <td>count</td>\n",
       "      <td>506.000000</td>\n",
       "      <td>506.000000</td>\n",
       "      <td>506.000000</td>\n",
       "      <td>506.000000</td>\n",
       "      <td>506.000000</td>\n",
       "      <td>506.000000</td>\n",
       "      <td>506.000000</td>\n",
       "      <td>506.000000</td>\n",
       "      <td>506.000000</td>\n",
       "      <td>506.000000</td>\n",
       "      <td>506.000000</td>\n",
       "      <td>506.000000</td>\n",
       "      <td>506.000000</td>\n",
       "      <td>506.000000</td>\n",
       "    </tr>\n",
       "    <tr>\n",
       "      <td>mean</td>\n",
       "      <td>3.613524</td>\n",
       "      <td>11.363636</td>\n",
       "      <td>11.136779</td>\n",
       "      <td>0.069170</td>\n",
       "      <td>0.554695</td>\n",
       "      <td>6.284634</td>\n",
       "      <td>68.574901</td>\n",
       "      <td>3.795043</td>\n",
       "      <td>9.549407</td>\n",
       "      <td>408.237154</td>\n",
       "      <td>18.455534</td>\n",
       "      <td>356.674032</td>\n",
       "      <td>12.653063</td>\n",
       "      <td>22.532806</td>\n",
       "    </tr>\n",
       "    <tr>\n",
       "      <td>std</td>\n",
       "      <td>8.601545</td>\n",
       "      <td>23.322453</td>\n",
       "      <td>6.860353</td>\n",
       "      <td>0.253994</td>\n",
       "      <td>0.115878</td>\n",
       "      <td>0.702617</td>\n",
       "      <td>28.148861</td>\n",
       "      <td>2.105710</td>\n",
       "      <td>8.707259</td>\n",
       "      <td>168.537116</td>\n",
       "      <td>2.164946</td>\n",
       "      <td>91.294864</td>\n",
       "      <td>7.141062</td>\n",
       "      <td>9.197104</td>\n",
       "    </tr>\n",
       "    <tr>\n",
       "      <td>min</td>\n",
       "      <td>0.006320</td>\n",
       "      <td>0.000000</td>\n",
       "      <td>0.460000</td>\n",
       "      <td>0.000000</td>\n",
       "      <td>0.385000</td>\n",
       "      <td>3.561000</td>\n",
       "      <td>2.900000</td>\n",
       "      <td>1.129600</td>\n",
       "      <td>1.000000</td>\n",
       "      <td>187.000000</td>\n",
       "      <td>12.600000</td>\n",
       "      <td>0.320000</td>\n",
       "      <td>1.730000</td>\n",
       "      <td>5.000000</td>\n",
       "    </tr>\n",
       "    <tr>\n",
       "      <td>25%</td>\n",
       "      <td>0.082045</td>\n",
       "      <td>0.000000</td>\n",
       "      <td>5.190000</td>\n",
       "      <td>0.000000</td>\n",
       "      <td>0.449000</td>\n",
       "      <td>5.885500</td>\n",
       "      <td>45.025000</td>\n",
       "      <td>2.100175</td>\n",
       "      <td>4.000000</td>\n",
       "      <td>279.000000</td>\n",
       "      <td>17.400000</td>\n",
       "      <td>375.377500</td>\n",
       "      <td>6.950000</td>\n",
       "      <td>17.025000</td>\n",
       "    </tr>\n",
       "    <tr>\n",
       "      <td>50%</td>\n",
       "      <td>0.256510</td>\n",
       "      <td>0.000000</td>\n",
       "      <td>9.690000</td>\n",
       "      <td>0.000000</td>\n",
       "      <td>0.538000</td>\n",
       "      <td>6.208500</td>\n",
       "      <td>77.500000</td>\n",
       "      <td>3.207450</td>\n",
       "      <td>5.000000</td>\n",
       "      <td>330.000000</td>\n",
       "      <td>19.050000</td>\n",
       "      <td>391.440000</td>\n",
       "      <td>11.360000</td>\n",
       "      <td>21.200000</td>\n",
       "    </tr>\n",
       "    <tr>\n",
       "      <td>75%</td>\n",
       "      <td>3.677082</td>\n",
       "      <td>12.500000</td>\n",
       "      <td>18.100000</td>\n",
       "      <td>0.000000</td>\n",
       "      <td>0.624000</td>\n",
       "      <td>6.623500</td>\n",
       "      <td>94.075000</td>\n",
       "      <td>5.188425</td>\n",
       "      <td>24.000000</td>\n",
       "      <td>666.000000</td>\n",
       "      <td>20.200000</td>\n",
       "      <td>396.225000</td>\n",
       "      <td>16.955000</td>\n",
       "      <td>25.000000</td>\n",
       "    </tr>\n",
       "    <tr>\n",
       "      <td>max</td>\n",
       "      <td>88.976200</td>\n",
       "      <td>100.000000</td>\n",
       "      <td>27.740000</td>\n",
       "      <td>1.000000</td>\n",
       "      <td>0.871000</td>\n",
       "      <td>8.780000</td>\n",
       "      <td>100.000000</td>\n",
       "      <td>12.126500</td>\n",
       "      <td>24.000000</td>\n",
       "      <td>711.000000</td>\n",
       "      <td>22.000000</td>\n",
       "      <td>396.900000</td>\n",
       "      <td>37.970000</td>\n",
       "      <td>50.000000</td>\n",
       "    </tr>\n",
       "  </tbody>\n",
       "</table>\n",
       "</div>"
      ],
      "text/plain": [
       "             CRIM          ZN       INDUS        CHAS         NOX          RM  \\\n",
       "count  506.000000  506.000000  506.000000  506.000000  506.000000  506.000000   \n",
       "mean     3.613524   11.363636   11.136779    0.069170    0.554695    6.284634   \n",
       "std      8.601545   23.322453    6.860353    0.253994    0.115878    0.702617   \n",
       "min      0.006320    0.000000    0.460000    0.000000    0.385000    3.561000   \n",
       "25%      0.082045    0.000000    5.190000    0.000000    0.449000    5.885500   \n",
       "50%      0.256510    0.000000    9.690000    0.000000    0.538000    6.208500   \n",
       "75%      3.677082   12.500000   18.100000    0.000000    0.624000    6.623500   \n",
       "max     88.976200  100.000000   27.740000    1.000000    0.871000    8.780000   \n",
       "\n",
       "              AGE         DIS         RAD         TAX     PTRATIO           B  \\\n",
       "count  506.000000  506.000000  506.000000  506.000000  506.000000  506.000000   \n",
       "mean    68.574901    3.795043    9.549407  408.237154   18.455534  356.674032   \n",
       "std     28.148861    2.105710    8.707259  168.537116    2.164946   91.294864   \n",
       "min      2.900000    1.129600    1.000000  187.000000   12.600000    0.320000   \n",
       "25%     45.025000    2.100175    4.000000  279.000000   17.400000  375.377500   \n",
       "50%     77.500000    3.207450    5.000000  330.000000   19.050000  391.440000   \n",
       "75%     94.075000    5.188425   24.000000  666.000000   20.200000  396.225000   \n",
       "max    100.000000   12.126500   24.000000  711.000000   22.000000  396.900000   \n",
       "\n",
       "            LSTAT        MEDV  \n",
       "count  506.000000  506.000000  \n",
       "mean    12.653063   22.532806  \n",
       "std      7.141062    9.197104  \n",
       "min      1.730000    5.000000  \n",
       "25%      6.950000   17.025000  \n",
       "50%     11.360000   21.200000  \n",
       "75%     16.955000   25.000000  \n",
       "max     37.970000   50.000000  "
      ]
     },
     "execution_count": 103,
     "metadata": {},
     "output_type": "execute_result"
    }
   ],
   "source": [
    "import numpy as np\n",
    "import pandas as pd\n",
    "import matplotlib.pyplot as plt\n",
    "import os\n",
    "import sklearn\n",
    "\n",
    "'''\n",
    "The Boston house-price data of Harrison, D. and Rubinfeld, D.L. 'Hedonic\n",
    "prices and the demand for clean air', J. Environ. Economics & Management,\n",
    "vol.5, 81-102, 1978.   Used in Belsley, Kuh & Welsch, 'Regression diagnostics\n",
    "...', Wiley, 1980.   N.B. Various transformations are used in the table on\n",
    "pages 244-261 of the latter.\n",
    "\n",
    "Variables in order:\n",
    "CRIM     per capita crime rate by town\n",
    "ZN       proportion of residential land zoned for lots over 25,000 sq.ft.\n",
    "INDUS    proportion of non-retail business acres per town\n",
    "CHAS     Charles River dummy variable (= 1 if tract bounds river; 0 otherwise)\n",
    "NOX      nitric oxides concentration (parts per 10 million)\n",
    "RM       average number of rooms per dwelling\n",
    "AGE      proportion of owner-occupied units built prior to 1940\n",
    "DIS      weighted distances to five Boston employment centres\n",
    "RAD      index of accessibility to radial highways\n",
    "TAX      full-value property-tax rate per $10,000\n",
    "PTRATIO  pupil-teacher ratio by town\n",
    "B        1000(Bk - 0.63)^2 where Bk is the proportion of blacks by town\n",
    "LSTAT    % lower status of the population\n",
    "MEDV     Median value of owner-occupied homes in $1000's\n",
    "'''\n",
    "\n",
    "cwd = os.getcwd()\n",
    "\n",
    "HOUSES_PATH = os.path.join(cwd, \"houses.csv\")\n",
    "\n",
    "data = pd.read_csv(HOUSES_PATH) \n",
    "data.describe()"
   ]
  },
  {
   "cell_type": "markdown",
   "metadata": {},
   "source": [
    "#### We can see from above that our data set is fairly small (n=506). We want to cross-validate our models to verify the results."
   ]
  },
  {
   "cell_type": "markdown",
   "metadata": {},
   "source": [
    "## Cleaning Data"
   ]
  },
  {
   "cell_type": "markdown",
   "metadata": {},
   "source": [
    "#### Our data seems to not be missing any values (no null values) and seems to be fairly clean. "
   ]
  },
  {
   "cell_type": "code",
   "execution_count": 104,
   "metadata": {},
   "outputs": [
    {
     "data": {
      "text/plain": [
       "CRIM       0\n",
       "ZN         0\n",
       "INDUS      0\n",
       "CHAS       0\n",
       "NOX        0\n",
       "RM         0\n",
       "AGE        0\n",
       "DIS        0\n",
       "RAD        0\n",
       "TAX        0\n",
       "PTRATIO    0\n",
       "B          0\n",
       "LSTAT      0\n",
       "MEDV       0\n",
       "dtype: int64"
      ]
     },
     "execution_count": 104,
     "metadata": {},
     "output_type": "execute_result"
    }
   ],
   "source": [
    "data.isnull().sum()"
   ]
  },
  {
   "cell_type": "markdown",
   "metadata": {},
   "source": [
    "#### Let's check for data types (see if we need to change any categorical variables). It seems like there are not unconverted categorical variables (CHAS is already a dummy variable)."
   ]
  },
  {
   "cell_type": "code",
   "execution_count": 105,
   "metadata": {},
   "outputs": [
    {
     "name": "stdout",
     "output_type": "stream",
     "text": [
      "<class 'pandas.core.frame.DataFrame'>\n",
      "RangeIndex: 506 entries, 0 to 505\n",
      "Data columns (total 14 columns):\n",
      "CRIM       506 non-null float64\n",
      "ZN         506 non-null float64\n",
      "INDUS      506 non-null float64\n",
      "CHAS       506 non-null int64\n",
      "NOX        506 non-null float64\n",
      "RM         506 non-null float64\n",
      "AGE        506 non-null float64\n",
      "DIS        506 non-null float64\n",
      "RAD        506 non-null int64\n",
      "TAX        506 non-null float64\n",
      "PTRATIO    506 non-null float64\n",
      "B          506 non-null float64\n",
      "LSTAT      506 non-null float64\n",
      "MEDV       506 non-null float64\n",
      "dtypes: float64(12), int64(2)\n",
      "memory usage: 55.5 KB\n"
     ]
    }
   ],
   "source": [
    "data.info()"
   ]
  },
  {
   "cell_type": "markdown",
   "metadata": {},
   "source": [
    "#### One note regarding the data: based on the histograms below, it seems like the data is farily skewed and there exists some outliers in the data. We need to standardize the data to make it more normally distributed and we should also regularize to get the values of the features to be similar to each other (will do both later). "
   ]
  },
  {
   "cell_type": "code",
   "execution_count": 106,
   "metadata": {},
   "outputs": [
    {
     "data": {
      "image/png": "[encoded data removed]",
      "text/plain": [
       "<Figure size 1440x1080 with 16 Axes>"
      ]
     },
     "metadata": {
      "needs_background": "light"
     },
     "output_type": "display_data"
    }
   ],
   "source": [
    "data.hist(bins=50, figsize=(20,15))\n",
    "plt.show()"
   ]
  },
  {
   "cell_type": "markdown",
   "metadata": {},
   "source": [
    "# NOX Prediction"
   ]
  },
  {
   "cell_type": "markdown",
   "metadata": {},
   "source": [
    "## Feature Selection\n",
    "\n",
    "#### Let's select what data sets/features we should include in our models. \n"
   ]
  },
  {
   "cell_type": "code",
   "execution_count": 107,
   "metadata": {},
   "outputs": [
    {
     "data": {
      "text/plain": [
       "NOX        1.000000\n",
       "INDUS      0.763651\n",
       "AGE        0.731470\n",
       "TAX        0.668023\n",
       "RAD        0.611441\n",
       "LSTAT      0.590879\n",
       "CRIM       0.420972\n",
       "PTRATIO    0.188933\n",
       "CHAS       0.091203\n",
       "RM        -0.302188\n",
       "B         -0.380051\n",
       "MEDV      -0.427321\n",
       "ZN        -0.516604\n",
       "DIS       -0.769230\n",
       "Name: NOX, dtype: float64"
      ]
     },
     "execution_count": 107,
     "metadata": {},
     "output_type": "execute_result"
    }
   ],
   "source": [
    "nox = data.copy()\n",
    "corr_matrix = nox.corr()\n",
    "corr_matrix[\"NOX\"].sort_values(ascending=False)"
   ]
  },
  {
   "cell_type": "markdown",
   "metadata": {},
   "source": [
    "#### Based on the correlation matrix above, we can see that there are several features that are highly correlated to NOX. Let's try two types of data sets with the following features:\n",
    "1. All features\n",
    "2. INDUS, AGE, TAX, RAD, LSTAT, CRIM, MEDV, ZN, DIS (so we drop PTRATIO, CHAS, RM, B)"
   ]
  },
  {
   "cell_type": "code",
   "execution_count": 108,
   "metadata": {},
   "outputs": [],
   "source": [
    "nox_y = nox['NOX']\n",
    "nox_1 = nox.drop(columns=[\"NOX\"])\n",
    "nox_2 = nox.drop(columns=[\"PTRATIO\", \"CHAS\", \"RM\", \"B\", \"NOX\"])\n",
    "\n",
    "nox_data = [nox_1, nox_2]"
   ]
  },
  {
   "cell_type": "markdown",
   "metadata": {},
   "source": [
    "## Train-Test Split"
   ]
  },
  {
   "cell_type": "code",
   "execution_count": 109,
   "metadata": {},
   "outputs": [],
   "source": [
    "from sklearn.model_selection import train_test_split\n",
    "\n",
    "nox_train, nox_test = train_test_split(nox, test_size=0.2, random_state=32)\n",
    "\n",
    "nox_train_y = nox_train[\"NOX\"]\n",
    "train_1 = nox_train.drop(columns=[\"NOX\"])\n",
    "train_2 = nox_train.drop(columns=[\"NOX\",\"PTRATIO\", \"CHAS\", \"RM\", \"B\"])\n",
    "\n",
    "nox_test_y = nox_test[\"NOX\"]\n",
    "test_1 = nox_test.drop(columns=[\"NOX\"])\n",
    "test_2 = nox_test.drop(columns=[\"PTRATIO\", \"CHAS\", \"RM\", \"B\", \"NOX\"])\n",
    "\n",
    "\n",
    "nox_train_array = [train_1, train_2]\n",
    "nox_test_array = [test_1, test_2]\n"
   ]
  },
  {
   "cell_type": "markdown",
   "metadata": {},
   "source": [
    "### Data Regularization\n",
    "\n",
    "#### As discussed in the data clean up section, we regularize the data to normalize the distribution and scale the data."
   ]
  },
  {
   "cell_type": "code",
   "execution_count": 110,
   "metadata": {},
   "outputs": [],
   "source": [
    "from sklearn.preprocessing import StandardScaler\n",
    "\n",
    "process = StandardScaler()\n",
    "\n",
    "for data_set in nox_train_array:\n",
    "    data_set = process.fit_transform(data_set)"
   ]
  },
  {
   "cell_type": "markdown",
   "metadata": {},
   "source": [
    "## Models\n",
    "\n",
    "#### First, we'll write a function to evaluate all our models. This function returns the correct output within a certain acceptable range as well as the Mean Average Error.\n",
    "\n",
    "#### The acceptable range will be a standard deviation of the NOX value found in the original data set."
   ]
  },
  {
   "cell_type": "code",
   "execution_count": 158,
   "metadata": {},
   "outputs": [],
   "source": [
    "def evaluating_model(predictions, actual, acceptable_range, print_res = True):\n",
    "    total = len(predictions)\n",
    "    correct = 0\n",
    "    mae = 0\n",
    "    \n",
    "    for i in range(total):\n",
    "        difference = abs(predictions[i] - actual[i])\n",
    "        if difference <= acceptable_range:\n",
    "            correct += 1\n",
    "        mae += difference\n",
    "    \n",
    "    percent_correct = (correct / total) * 100\n",
    "    mae = mae / total\n",
    "    \n",
    "    if print_res:\n",
    "        print(\"{:0.2f}% correct within {} parts per 10 million ({} correct guesses)\".format(\n",
    "                percent_correct, acceptable_range, correct))\n",
    "        print(\"MAE: {:0.3f}\".format(mae))\n",
    "    return mae\n",
    "        "
   ]
  },
  {
   "cell_type": "markdown",
   "metadata": {},
   "source": [
    "### Linear Regression"
   ]
  },
  {
   "cell_type": "code",
   "execution_count": 159,
   "metadata": {},
   "outputs": [
    {
     "name": "stdout",
     "output_type": "stream",
     "text": [
      "Linear Reg 1 mse is 0.00248, rmse is 0.050\n",
      "68.63% correct within 0.05 parts per 10 million (70 correct guesses)\n",
      "MAE: 0.038\n",
      "94.12% correct within 0.1 parts per 10 million (96 correct guesses)\n",
      "MAE: 0.038\n",
      "\n",
      "Linear Reg 2 mse is 0.00238, rmse is 0.049\n",
      "76.47% correct within 0.05 parts per 10 million (78 correct guesses)\n",
      "MAE: 0.035\n",
      "96.08% correct within 0.1 parts per 10 million (98 correct guesses)\n",
      "MAE: 0.035\n",
      "\n"
     ]
    }
   ],
   "source": [
    "from sklearn.linear_model import LinearRegression\n",
    "from sklearn.metrics import mean_squared_error\n",
    "\n",
    "count = 1\n",
    "lin_array = []\n",
    "\n",
    "for i in range(len(nox_train_array)):\n",
    "    model_name = \"Linear Regression {}\".format(count)\n",
    "    lin_reg = LinearRegression()\n",
    "    lin_reg.fit(nox_train_array[i], nox_train_y)\n",
    "\n",
    "    predicted = lin_reg.predict(nox_test_array[i])\n",
    "\n",
    "    mse = mean_squared_error(nox_test_y, predicted)\n",
    "    rmse = np.sqrt(mse)\n",
    "\n",
    "    print(\"Linear Reg {} mse is {:.5f}, rmse is {:.3f}\".format(count, mse, rmse))\n",
    "    evaluating_model(predicted, nox_test_y.values, 0.05)\n",
    "    evaluating_model(predicted, nox_test_y.values, 0.1)\n",
    "    count +=1\n",
    "    lin_array.append((model_name, lin_reg))\n",
    "    print()\n"
   ]
  },
  {
   "cell_type": "markdown",
   "metadata": {},
   "source": [
    "### Ridge Regression"
   ]
  },
  {
   "cell_type": "code",
   "execution_count": 160,
   "metadata": {},
   "outputs": [
    {
     "name": "stdout",
     "output_type": "stream",
     "text": [
      "Ridge Reg 1 mse is 0.00248, rmse is 0.050\n",
      "68.63% correct within 0.05 parts per 10 million (70 correct guesses)\n",
      "MAE: 0.038\n",
      "94.12% correct within 0.1 parts per 10 million (96 correct guesses)\n",
      "MAE: 0.038\n",
      "\n",
      "Ridge Reg 2 mse is 0.00238, rmse is 0.049\n",
      "76.47% correct within 0.05 parts per 10 million (78 correct guesses)\n",
      "MAE: 0.035\n",
      "96.08% correct within 0.1 parts per 10 million (98 correct guesses)\n",
      "MAE: 0.035\n",
      "\n"
     ]
    }
   ],
   "source": [
    "from sklearn.linear_model import Ridge\n",
    "from sklearn.metrics import mean_squared_error\n",
    "\n",
    "count = 1\n",
    "ridge_array = []\n",
    "\n",
    "for i in range(len(nox_train_array)):\n",
    "    model_name = \"Ridge Regression{}\".format(count)\n",
    "    ridge_reg = Ridge(alpha=1, solver=\"cholesky\")\n",
    "    ridge_reg.fit(nox_train_array[i], nox_train_y)\n",
    "\n",
    "    predicted = ridge_reg.predict(nox_test_array[i])\n",
    "\n",
    "    mse = mean_squared_error(nox_test_y, predicted)\n",
    "    rmse = np.sqrt(mse)\n",
    "\n",
    "    print(\"Ridge Reg {} mse is {:.5f}, rmse is {:.3f}\".format(count, mse, rmse))\n",
    "    evaluating_model(predicted, nox_test_y.values, 0.05)\n",
    "    evaluating_model(predicted, nox_test_y.values, 0.1)\n",
    "    count +=1\n",
    "    ridge_array.append((model_name, ridge_reg))\n",
    "    print()\n",
    "\n",
    "\n"
   ]
  },
  {
   "cell_type": "markdown",
   "metadata": {},
   "source": [
    "### Elastic Net Regression"
   ]
  },
  {
   "cell_type": "code",
   "execution_count": 161,
   "metadata": {},
   "outputs": [
    {
     "name": "stdout",
     "output_type": "stream",
     "text": [
      "Elastic Reg 1 mse is 0.00295, rmse is 0.054\n",
      "73.53% correct within 0.05 parts per 10 million (75 correct guesses)\n",
      "MAE: 0.038\n",
      "96.08% correct within 0.1 parts per 10 million (98 correct guesses)\n",
      "MAE: 0.038\n",
      "\n",
      "Elastic Reg 2 mse is 0.00307, rmse is 0.055\n",
      "72.55% correct within 0.05 parts per 10 million (74 correct guesses)\n",
      "MAE: 0.039\n",
      "96.08% correct within 0.1 parts per 10 million (98 correct guesses)\n",
      "MAE: 0.039\n",
      "\n"
     ]
    }
   ],
   "source": [
    "from sklearn.linear_model import ElasticNet\n",
    "from sklearn.metrics import mean_squared_error\n",
    "\n",
    "count = 1\n",
    "elastic_array = []\n",
    "\n",
    "for i in range(len(nox_train_array)):\n",
    "    model_name = \"Elastic Regression{}\".format(count)\n",
    "    elas_reg = ElasticNet(alpha=0.2, l1_ratio=0.5)\n",
    "    elas_reg.fit(nox_train_array[i], nox_train_y)\n",
    "\n",
    "    predicted = elas_reg.predict(nox_test_array[i])\n",
    "\n",
    "    mse = mean_squared_error(nox_test_y, predicted)\n",
    "    rmse = np.sqrt(mse)\n",
    "\n",
    "    print(\"Elastic Reg {} mse is {:.5f}, rmse is {:.3f}\".format(count, mse, rmse))\n",
    "    evaluating_model(predicted, nox_test_y.values, 0.05)\n",
    "    evaluating_model(predicted, nox_test_y.values, 0.1)\n",
    "    count +=1\n",
    "    elastic_array.append((model_name, elas_reg))\n",
    "    print()\n",
    "\n"
   ]
  },
  {
   "cell_type": "markdown",
   "metadata": {},
   "source": [
    "### Lasso Regression"
   ]
  },
  {
   "cell_type": "code",
   "execution_count": 162,
   "metadata": {},
   "outputs": [
    {
     "name": "stdout",
     "output_type": "stream",
     "text": [
      "Lasso Reg 1 mse is 0.00295, rmse is 0.054\n",
      "73.53% correct within 0.05 parts per 10 million (75 correct guesses)\n",
      "MAE: 0.038\n",
      "96.08% correct within 0.1 parts per 10 million (98 correct guesses)\n",
      "MAE: 0.038\n",
      "\n",
      "Lasso Reg 2 mse is 0.00307, rmse is 0.055\n",
      "72.55% correct within 0.05 parts per 10 million (74 correct guesses)\n",
      "MAE: 0.039\n",
      "96.08% correct within 0.1 parts per 10 million (98 correct guesses)\n",
      "MAE: 0.039\n",
      "\n"
     ]
    }
   ],
   "source": [
    "from sklearn.linear_model import Lasso\n",
    "from sklearn.metrics import mean_squared_error\n",
    "\n",
    "count = 1\n",
    "lasso_array = []\n",
    "\n",
    "for i in range(len(nox_train_array)):\n",
    "    model_name = \"Lasso Regression{}\".format(count)\n",
    "    lasso_reg = Lasso(alpha=0.1)\n",
    "    lasso_reg.fit(nox_train_array[i], nox_train_y)\n",
    "\n",
    "    predicted = lasso_reg.predict(nox_test_array[i])\n",
    "\n",
    "    mse = mean_squared_error(nox_test_y, predicted)\n",
    "    rmse = np.sqrt(mse)\n",
    "\n",
    "    print(\"Lasso Reg {} mse is {:.5f}, rmse is {:.3f}\".format(count, mse, rmse))\n",
    "    evaluating_model(predicted, nox_test_y.values, 0.05)\n",
    "    evaluating_model(predicted, nox_test_y.values, 0.1)\n",
    "    count +=1\n",
    "    lasso_array.append((model_name, lasso_reg))\n",
    "    print()\n",
    "\n",
    "\n"
   ]
  },
  {
   "cell_type": "markdown",
   "metadata": {},
   "source": [
    "### Decision Trees\n",
    "\n",
    "#### Let's try using a decision tree."
   ]
  },
  {
   "cell_type": "code",
   "execution_count": 163,
   "metadata": {},
   "outputs": [
    {
     "name": "stdout",
     "output_type": "stream",
     "text": [
      "Decision Tree Reg 1 mse is 0.00096, rmse is 0.031\n",
      "89.22% correct within 0.05 parts per 10 million (91 correct guesses)\n",
      "MAE: 0.019\n",
      "99.02% correct within 0.1 parts per 10 million (101 correct guesses)\n",
      "MAE: 0.019\n",
      "\n",
      "Decision Tree Reg 2 mse is 0.00203, rmse is 0.045\n",
      "87.25% correct within 0.05 parts per 10 million (89 correct guesses)\n",
      "MAE: 0.024\n",
      "96.08% correct within 0.1 parts per 10 million (98 correct guesses)\n",
      "MAE: 0.024\n",
      "\n"
     ]
    }
   ],
   "source": [
    "from sklearn.tree import DecisionTreeRegressor\n",
    "tree = DecisionTreeRegressor(max_depth=5, criterion='mae')\n",
    "\n",
    "count = 1\n",
    "tree_array = []\n",
    "\n",
    "for i in range(len(nox_train_array)):\n",
    "    model_name = \"decision_tree_reg{}\".format(count)\n",
    "    tree_reg = DecisionTreeRegressor(max_depth=5, criterion='mae')\n",
    "    tree_reg.fit(nox_train_array[i], nox_train_y)\n",
    "\n",
    "    predicted = tree_reg.predict(nox_test_array[i])\n",
    "\n",
    "    mse = mean_squared_error(nox_test_y, predicted)\n",
    "    rmse = np.sqrt(mse)\n",
    "\n",
    "    print(\"Decision Tree Reg {} mse is {:.5f}, rmse is {:.3f}\".format(count, mse, rmse))\n",
    "    evaluating_model(predicted, nox_test_y.values, 0.05)\n",
    "    evaluating_model(predicted, nox_test_y.values, 0.1)\n",
    "    count +=1\n",
    "    tree_array.append((model_name, tree_reg))\n",
    "    print()\n"
   ]
  },
  {
   "cell_type": "markdown",
   "metadata": {},
   "source": [
    "### Gradient Boosted Trees"
   ]
  },
  {
   "cell_type": "code",
   "execution_count": 166,
   "metadata": {},
   "outputs": [
    {
     "name": "stdout",
     "output_type": "stream",
     "text": [
      "Gradient Boosted Tree Reg 1 mse is 0.00203, rmse is 0.045\n",
      "87.25% correct within 0.05 parts per 10 million (89 correct guesses)\n",
      "MAE: 0.024\n",
      "96.08% correct within 0.1 parts per 10 million (98 correct guesses)\n",
      "MAE: 0.024\n",
      "\n",
      "Gradient Boosted Tree Reg 2 mse is 0.00203, rmse is 0.045\n",
      "87.25% correct within 0.05 parts per 10 million (89 correct guesses)\n",
      "MAE: 0.024\n",
      "96.08% correct within 0.1 parts per 10 million (98 correct guesses)\n",
      "MAE: 0.024\n",
      "\n"
     ]
    }
   ],
   "source": [
    "from sklearn.ensemble import GradientBoostingRegressor\n",
    "learning_rate_list = [0.05, 0.075, 0.1, 0.25, 0.5, 0.75, 1]\n",
    "\n",
    "# This function chooses the best learning rate by testing \n",
    "# the learning rates above on the model and returns the best one.\n",
    "def get_learning_rate(train_x, train_y, test_x, test_y):\n",
    "    best_rate = None\n",
    "    smallest_mae = float(\"inf\")\n",
    "    for learning_rate in learning_rate_list:\n",
    "        gb_tree = GradientBoostingRegressor(\n",
    "            n_estimators=20, learning_rate=learning_rate, \n",
    "            max_features=2, max_depth=2, random_state=0, criterion='mae')\n",
    "        gb_tree.fit(train_x, train_y)\n",
    "        predicted = gb_tree.predict(test_x)\n",
    "        mae = evaluating_model(predicted, train_y.values, 0.05, False)\n",
    "        \n",
    "        if mae < smallest_mae:\n",
    "            best_rate = learning_rate\n",
    "            smallest_mae = mae\n",
    "    return best_rate\n",
    "    \n",
    "count = 1\n",
    "gb_array = []\n",
    "\n",
    "\n",
    "for i in range(len(nox_train_array)):\n",
    "    model_name = \"Gradient_Boosted_{}\".format(count)\n",
    "    rate = get_learning_rate(\n",
    "            nox_train_array[i], nox_train_y, nox_test_array[i], nox_test_y)\n",
    "    gb_tree = GradientBoostingRegressor(\n",
    "        n_estimators=20, learning_rate=rate, max_features=2, max_depth=5, random_state=0, criterion='mse')\n",
    "    gb_tree.fit(nox_train_array[i], nox_train_y)\n",
    "    \n",
    "    mse = mean_squared_error(nox_test_y, predicted)\n",
    "    rmse = np.sqrt(mse)\n",
    "\n",
    "    print(\"Gradient Boosted Tree Reg {} mse is {:.5f}, rmse is {:.3f}\".format(count, mse, rmse))\n",
    "    evaluating_model(predicted, nox_test_y.values, 0.05)\n",
    "    evaluating_model(predicted, nox_test_y.values, 0.1)\n",
    "    count +=1\n",
    "    gb_array.append((model_name, gb_tree))\n",
    "    print()\n",
    "\n"
   ]
  },
  {
   "cell_type": "markdown",
   "metadata": {},
   "source": [
    "### Baseline\n",
    "\n",
    "#### Let's use the average NOX as the prediction and see the accuracy/mae."
   ]
  },
  {
   "cell_type": "code",
   "execution_count": 165,
   "metadata": {},
   "outputs": [
    {
     "name": "stdout",
     "output_type": "stream",
     "text": [
      "Baseline mse is 0.012509871244816206, rmse is 0.11184753571186182\n",
      "31.37% correct within 0.05 parts per 10 million (32 correct guesses)\n",
      "MAE: 0.093\n",
      "53.92% correct within 0.1 parts per 10 million (55 correct guesses)\n",
      "MAE: 0.093\n",
      "\n"
     ]
    }
   ],
   "source": [
    "# Using the average number of rings found in training data and using \n",
    "# that as all predictions. \n",
    "avg_y = nox_train_y.mean()\n",
    "\n",
    "# Creating an array of size of the test data filled with the \n",
    "# average ring number obtained above.\n",
    "avg_y_predictions = np.full(len(nox_test_y), fill_value=avg_y)\n",
    "avg_mse = mean_squared_error(avg_y_predictions, nox_test_y)\n",
    "avg_rmse = np.sqrt(avg_mse)\n",
    "\n",
    "print(\"Baseline mse is {}, rmse is {}\".format(avg_mse, avg_rmse))\n",
    "evaluating_model(avg_y_predictions, nox_test_y.values, 0.05)\n",
    "evaluating_model(avg_y_predictions, nox_test_y.values, 0.1)\n",
    "print()"
   ]
  },
  {
   "cell_type": "markdown",
   "metadata": {},
   "source": [
    "### Cross-Validation\n",
    "\n",
    "#### Let's also test our models with cross-validation (k-folds)"
   ]
  },
  {
   "cell_type": "code",
   "execution_count": 154,
   "metadata": {},
   "outputs": [
    {
     "name": "stdout",
     "output_type": "stream",
     "text": [
      "Model: Linear Regression 1\n",
      "RMSE: 0.067\n",
      "RMSE Standard deviation: 0.017\n",
      "MAE: 0.052\n",
      "MAE Standard deviation: 0.011\n",
      "\n",
      "Model: Linear Regression 2\n",
      "RMSE: 0.061\n",
      "RMSE Standard deviation: 0.022\n",
      "MAE: 0.045\n",
      "MAE Standard deviation: 0.013\n",
      "\n",
      "Model: Ridge Regression1\n",
      "RMSE: 0.067\n",
      "RMSE Standard deviation: 0.017\n",
      "MAE: 0.052\n",
      "MAE Standard deviation: 0.011\n",
      "\n",
      "Model: Ridge Regression2\n",
      "RMSE: 0.061\n",
      "RMSE Standard deviation: 0.022\n",
      "MAE: 0.045\n",
      "MAE Standard deviation: 0.013\n",
      "\n",
      "Model: Elastic Regression1\n",
      "RMSE: 0.071\n",
      "RMSE Standard deviation: 0.027\n",
      "MAE: 0.054\n",
      "MAE Standard deviation: 0.018\n",
      "\n",
      "Model: Elastic Regression2\n",
      "RMSE: 0.066\n",
      "RMSE Standard deviation: 0.026\n",
      "MAE: 0.050\n",
      "MAE Standard deviation: 0.016\n",
      "\n",
      "Model: Lasso Regression1\n",
      "RMSE: 0.071\n",
      "RMSE Standard deviation: 0.027\n",
      "MAE: 0.054\n",
      "MAE Standard deviation: 0.018\n",
      "\n",
      "Model: Lasso Regression2\n",
      "RMSE: 0.066\n",
      "RMSE Standard deviation: 0.026\n",
      "MAE: 0.050\n",
      "MAE Standard deviation: 0.016\n",
      "\n",
      "Model: decision_tree_reg1\n",
      "RMSE: 0.079\n",
      "RMSE Standard deviation: 0.030\n",
      "MAE: 0.057\n",
      "MAE Standard deviation: 0.019\n",
      "\n",
      "Model: decision_tree_reg2\n",
      "RMSE: 0.073\n",
      "RMSE Standard deviation: 0.031\n",
      "MAE: 0.054\n",
      "MAE Standard deviation: 0.020\n",
      "\n",
      "Model: Gradient_Boosted_1\n",
      "RMSE: 0.066\n",
      "RMSE Standard deviation: 0.022\n",
      "MAE: 0.056\n",
      "MAE Standard deviation: 0.019\n",
      "\n",
      "Model: Gradient_Boosted_2\n",
      "RMSE: 0.066\n",
      "RMSE Standard deviation: 0.022\n",
      "MAE: 0.056\n",
      "MAE Standard deviation: 0.019\n",
      "\n"
     ]
    }
   ],
   "source": [
    "from sklearn.model_selection import cross_val_score\n",
    "\n",
    "process = StandardScaler()\n",
    "\n",
    "\n",
    "# Obtained from previous step\n",
    "nox_data\n",
    "\n",
    "for data_set in nox_data:\n",
    "    data_set = process.fit_transform(data_set)\n",
    "\n",
    "models = [lin_array, ridge_array, elastic_array, lasso_array, tree_array, gb_array]\n",
    "\n",
    "def cross_validate_model(models):\n",
    "    for model in models:\n",
    "        for i in range(len(model)):\n",
    "            trial = model[i]\n",
    "            mse = cross_val_score(trial[1], nox_data[i], nox_y,\n",
    "                    scoring='neg_mean_squared_error', \n",
    "                    cv=10)\n",
    "            rmse = np.sqrt(-mse)\n",
    "            mae = cross_val_score(trial[1], nox_data[i], nox_y,\n",
    "                    scoring='neg_mean_absolute_error', \n",
    "                    cv=10)\n",
    "\n",
    "\n",
    "            print(\"Model: {}\".format(trial[0]))\n",
    "            print(\"RMSE: {:.3f}\".format(rmse.mean()))\n",
    "            print(\"RMSE Standard deviation: {:.3f}\".format(rmse.std()))\n",
    "            print(\"MAE: {:.3f}\".format(-mae.mean()))\n",
    "            print(\"MAE Standard deviation: {:.3f}\".format(mae.std()))\n",
    "            print()\n",
    "\n",
    "cross_validate_model(models)"
   ]
  },
  {
   "cell_type": "markdown",
   "metadata": {},
   "source": [
    "## Results\n",
    "\n",
    "### Test-Train Split\n",
    "\n",
    "#### From the results, we see that all our models were able to beat the baseline. From there, out of all the linear regressions, the regular linear regression and ridge regression models seemed to both have the lowest MAE as well as similar accuracies (predicting NOX level +/- 0.1 correctly 98% of the time). \n",
    "\n",
    "#### Generally, we see that all our models were able to predict NOX level +/- 0.1 correctly around 98% of the time. However, the Decision Tree Regressor (model 1) did particularly well as it was the only model to break that and get 99.02% correct with a lower MAE than the other models. \n",
    "\n",
    "#### Additionally, for each type of model, we see that there is a general trend with the different sets of data. As a reminder, the two types of sets of features we passed into each model was 1. All features and 2. INDUS, AGE, TAX, RAD, LSTAT, CRIM, MEDV, ZN, DIS (so we drop PTRATIO, CHAS, RM, B. Generally, the feature set two, which selected the top few correlated features, performed better than feature set 1. \n",
    "\n",
    "### Cross-Validation\n",
    "#### From our cross-validation, we see that the regular linear regression and ridge regression as a whole seem to that the lowest MAE/RMSE out of all the models. The decision tree regressor model discussed above did not perform as well when averaging the results of cross-validation. This is because our data set was fairly small (n=506). "
   ]
  },
  {
   "cell_type": "markdown",
   "metadata": {},
   "source": [
    "# Median Home Value Prediction"
   ]
  },
  {
   "cell_type": "markdown",
   "metadata": {},
   "source": [
    "#### Now let's move on to predicting the median home value"
   ]
  },
  {
   "cell_type": "markdown",
   "metadata": {},
   "source": [
    "## Feature Selection\n",
    "\n",
    "#### Let's select what data sets/features we should include in our models. "
   ]
  },
  {
   "cell_type": "code",
   "execution_count": 167,
   "metadata": {},
   "outputs": [
    {
     "data": {
      "text/plain": [
       "MEDV       1.000000\n",
       "RM         0.695360\n",
       "ZN         0.360445\n",
       "B          0.333461\n",
       "DIS        0.249929\n",
       "CHAS       0.175260\n",
       "AGE       -0.376955\n",
       "RAD       -0.381626\n",
       "CRIM      -0.388305\n",
       "NOX       -0.427321\n",
       "TAX       -0.468536\n",
       "INDUS     -0.483725\n",
       "PTRATIO   -0.507787\n",
       "LSTAT     -0.737663\n",
       "Name: MEDV, dtype: float64"
      ]
     },
     "execution_count": 167,
     "metadata": {},
     "output_type": "execute_result"
    }
   ],
   "source": [
    "home = data.copy()\n",
    "corr_matrix = home.corr()\n",
    "corr_matrix[\"MEDV\"].sort_values(ascending=False)"
   ]
  },
  {
   "cell_type": "markdown",
   "metadata": {},
   "source": [
    "#### Based on the correlation matrix above, we can see that there are several features that aren't very correlated to home values. Let's try two types of data sets with the following features:\n",
    "1. All features\n",
    "2. RM, LSTAT, PTRATIO, INDUS, TAX, NOX, CRIM, RAD, AGE (so we drop ZN, B, DIS, CHAS)\n",
    "\n",
    "#### Reading the descriptions of the four dropped variables, (ZN, B, DIS, CHAS), it is predicted that these features aren't good indictors of the median home value."
   ]
  },
  {
   "cell_type": "code",
   "execution_count": 168,
   "metadata": {},
   "outputs": [],
   "source": [
    "home_y = home['MEDV']\n",
    "home_1 = home.drop(columns=[\"MEDV\"])\n",
    "home_2 = home.drop(columns=[\"ZN\", \"B\", \"DIS\", \"CHAS\", \"MEDV\"])\n",
    "\n",
    "home_data = [home_1, home_2]"
   ]
  },
  {
   "cell_type": "markdown",
   "metadata": {},
   "source": [
    "## Train-Test Split"
   ]
  },
  {
   "cell_type": "code",
   "execution_count": 170,
   "metadata": {},
   "outputs": [],
   "source": [
    "home_train, home_test = train_test_split(home, test_size=0.2, random_state=32)\n",
    "\n",
    "home_train_y = home_train[\"MEDV\"]\n",
    "train_1 = home_train.drop(columns=[\"MEDV\"])\n",
    "train_2 = home_train.drop(columns=[\"ZN\", \"B\", \"DIS\", \"CHAS\", \"MEDV\"])\n",
    "\n",
    "home_test_y = home_test[\"MEDV\"]\n",
    "test_1 = home_test.drop(columns=[\"MEDV\"])\n",
    "test_2 = home_test.drop(columns=[\"ZN\", \"B\", \"DIS\", \"CHAS\", \"MEDV\"])\n",
    "\n",
    "\n",
    "home_train_array = [train_1, train_2]\n",
    "home_test_array = [test_1, test_2]"
   ]
  },
  {
   "cell_type": "markdown",
   "metadata": {},
   "source": [
    "### Data Regularization\n",
    "\n",
    "#### As done for the NOX data, we regularize the data to normalize the distribution and scale the data."
   ]
  },
  {
   "cell_type": "code",
   "execution_count": 171,
   "metadata": {},
   "outputs": [],
   "source": [
    "from sklearn.preprocessing import StandardScaler\n",
    "\n",
    "process = StandardScaler()\n",
    "\n",
    "for data_set in home_train_array:\n",
    "    data_set = process.fit_transform(data_set)"
   ]
  },
  {
   "cell_type": "markdown",
   "metadata": {},
   "source": [
    "## Models\n",
    "\n",
    "#### We will write another similar evaluating model function. This function returns the correct output within a certain acceptable range as well as the Mean Average Error.\n",
    "\n",
    "#### The acceptable range will about +/- 3 of the median home value found in the original data set. The SD seems to be around 9 in ($1000's) so around half this SD."
   ]
  },
  {
   "cell_type": "code",
   "execution_count": 175,
   "metadata": {},
   "outputs": [
    {
     "data": {
      "text/html": [
       "<div>\n",
       "<style scoped>\n",
       "    .dataframe tbody tr th:only-of-type {\n",
       "        vertical-align: middle;\n",
       "    }\n",
       "\n",
       "    .dataframe tbody tr th {\n",
       "        vertical-align: top;\n",
       "    }\n",
       "\n",
       "    .dataframe thead th {\n",
       "        text-align: right;\n",
       "    }\n",
       "</style>\n",
       "<table border=\"1\" class=\"dataframe\">\n",
       "  <thead>\n",
       "    <tr style=\"text-align: right;\">\n",
       "      <th></th>\n",
       "      <th>CRIM</th>\n",
       "      <th>ZN</th>\n",
       "      <th>INDUS</th>\n",
       "      <th>CHAS</th>\n",
       "      <th>NOX</th>\n",
       "      <th>RM</th>\n",
       "      <th>AGE</th>\n",
       "      <th>DIS</th>\n",
       "      <th>RAD</th>\n",
       "      <th>TAX</th>\n",
       "      <th>PTRATIO</th>\n",
       "      <th>B</th>\n",
       "      <th>LSTAT</th>\n",
       "      <th>MEDV</th>\n",
       "    </tr>\n",
       "  </thead>\n",
       "  <tbody>\n",
       "    <tr>\n",
       "      <td>count</td>\n",
       "      <td>506.000000</td>\n",
       "      <td>506.000000</td>\n",
       "      <td>506.000000</td>\n",
       "      <td>506.000000</td>\n",
       "      <td>506.000000</td>\n",
       "      <td>506.000000</td>\n",
       "      <td>506.000000</td>\n",
       "      <td>506.000000</td>\n",
       "      <td>506.000000</td>\n",
       "      <td>506.000000</td>\n",
       "      <td>506.000000</td>\n",
       "      <td>506.000000</td>\n",
       "      <td>506.000000</td>\n",
       "      <td>506.000000</td>\n",
       "    </tr>\n",
       "    <tr>\n",
       "      <td>mean</td>\n",
       "      <td>3.613524</td>\n",
       "      <td>11.363636</td>\n",
       "      <td>11.136779</td>\n",
       "      <td>0.069170</td>\n",
       "      <td>0.554695</td>\n",
       "      <td>6.284634</td>\n",
       "      <td>68.574901</td>\n",
       "      <td>3.795043</td>\n",
       "      <td>9.549407</td>\n",
       "      <td>408.237154</td>\n",
       "      <td>18.455534</td>\n",
       "      <td>356.674032</td>\n",
       "      <td>12.653063</td>\n",
       "      <td>22.532806</td>\n",
       "    </tr>\n",
       "    <tr>\n",
       "      <td>std</td>\n",
       "      <td>8.601545</td>\n",
       "      <td>23.322453</td>\n",
       "      <td>6.860353</td>\n",
       "      <td>0.253994</td>\n",
       "      <td>0.115878</td>\n",
       "      <td>0.702617</td>\n",
       "      <td>28.148861</td>\n",
       "      <td>2.105710</td>\n",
       "      <td>8.707259</td>\n",
       "      <td>168.537116</td>\n",
       "      <td>2.164946</td>\n",
       "      <td>91.294864</td>\n",
       "      <td>7.141062</td>\n",
       "      <td>9.197104</td>\n",
       "    </tr>\n",
       "    <tr>\n",
       "      <td>min</td>\n",
       "      <td>0.006320</td>\n",
       "      <td>0.000000</td>\n",
       "      <td>0.460000</td>\n",
       "      <td>0.000000</td>\n",
       "      <td>0.385000</td>\n",
       "      <td>3.561000</td>\n",
       "      <td>2.900000</td>\n",
       "      <td>1.129600</td>\n",
       "      <td>1.000000</td>\n",
       "      <td>187.000000</td>\n",
       "      <td>12.600000</td>\n",
       "      <td>0.320000</td>\n",
       "      <td>1.730000</td>\n",
       "      <td>5.000000</td>\n",
       "    </tr>\n",
       "    <tr>\n",
       "      <td>25%</td>\n",
       "      <td>0.082045</td>\n",
       "      <td>0.000000</td>\n",
       "      <td>5.190000</td>\n",
       "      <td>0.000000</td>\n",
       "      <td>0.449000</td>\n",
       "      <td>5.885500</td>\n",
       "      <td>45.025000</td>\n",
       "      <td>2.100175</td>\n",
       "      <td>4.000000</td>\n",
       "      <td>279.000000</td>\n",
       "      <td>17.400000</td>\n",
       "      <td>375.377500</td>\n",
       "      <td>6.950000</td>\n",
       "      <td>17.025000</td>\n",
       "    </tr>\n",
       "    <tr>\n",
       "      <td>50%</td>\n",
       "      <td>0.256510</td>\n",
       "      <td>0.000000</td>\n",
       "      <td>9.690000</td>\n",
       "      <td>0.000000</td>\n",
       "      <td>0.538000</td>\n",
       "      <td>6.208500</td>\n",
       "      <td>77.500000</td>\n",
       "      <td>3.207450</td>\n",
       "      <td>5.000000</td>\n",
       "      <td>330.000000</td>\n",
       "      <td>19.050000</td>\n",
       "      <td>391.440000</td>\n",
       "      <td>11.360000</td>\n",
       "      <td>21.200000</td>\n",
       "    </tr>\n",
       "    <tr>\n",
       "      <td>75%</td>\n",
       "      <td>3.677082</td>\n",
       "      <td>12.500000</td>\n",
       "      <td>18.100000</td>\n",
       "      <td>0.000000</td>\n",
       "      <td>0.624000</td>\n",
       "      <td>6.623500</td>\n",
       "      <td>94.075000</td>\n",
       "      <td>5.188425</td>\n",
       "      <td>24.000000</td>\n",
       "      <td>666.000000</td>\n",
       "      <td>20.200000</td>\n",
       "      <td>396.225000</td>\n",
       "      <td>16.955000</td>\n",
       "      <td>25.000000</td>\n",
       "    </tr>\n",
       "    <tr>\n",
       "      <td>max</td>\n",
       "      <td>88.976200</td>\n",
       "      <td>100.000000</td>\n",
       "      <td>27.740000</td>\n",
       "      <td>1.000000</td>\n",
       "      <td>0.871000</td>\n",
       "      <td>8.780000</td>\n",
       "      <td>100.000000</td>\n",
       "      <td>12.126500</td>\n",
       "      <td>24.000000</td>\n",
       "      <td>711.000000</td>\n",
       "      <td>22.000000</td>\n",
       "      <td>396.900000</td>\n",
       "      <td>37.970000</td>\n",
       "      <td>50.000000</td>\n",
       "    </tr>\n",
       "  </tbody>\n",
       "</table>\n",
       "</div>"
      ],
      "text/plain": [
       "             CRIM          ZN       INDUS        CHAS         NOX          RM  \\\n",
       "count  506.000000  506.000000  506.000000  506.000000  506.000000  506.000000   \n",
       "mean     3.613524   11.363636   11.136779    0.069170    0.554695    6.284634   \n",
       "std      8.601545   23.322453    6.860353    0.253994    0.115878    0.702617   \n",
       "min      0.006320    0.000000    0.460000    0.000000    0.385000    3.561000   \n",
       "25%      0.082045    0.000000    5.190000    0.000000    0.449000    5.885500   \n",
       "50%      0.256510    0.000000    9.690000    0.000000    0.538000    6.208500   \n",
       "75%      3.677082   12.500000   18.100000    0.000000    0.624000    6.623500   \n",
       "max     88.976200  100.000000   27.740000    1.000000    0.871000    8.780000   \n",
       "\n",
       "              AGE         DIS         RAD         TAX     PTRATIO           B  \\\n",
       "count  506.000000  506.000000  506.000000  506.000000  506.000000  506.000000   \n",
       "mean    68.574901    3.795043    9.549407  408.237154   18.455534  356.674032   \n",
       "std     28.148861    2.105710    8.707259  168.537116    2.164946   91.294864   \n",
       "min      2.900000    1.129600    1.000000  187.000000   12.600000    0.320000   \n",
       "25%     45.025000    2.100175    4.000000  279.000000   17.400000  375.377500   \n",
       "50%     77.500000    3.207450    5.000000  330.000000   19.050000  391.440000   \n",
       "75%     94.075000    5.188425   24.000000  666.000000   20.200000  396.225000   \n",
       "max    100.000000   12.126500   24.000000  711.000000   22.000000  396.900000   \n",
       "\n",
       "            LSTAT        MEDV  \n",
       "count  506.000000  506.000000  \n",
       "mean    12.653063   22.532806  \n",
       "std      7.141062    9.197104  \n",
       "min      1.730000    5.000000  \n",
       "25%      6.950000   17.025000  \n",
       "50%     11.360000   21.200000  \n",
       "75%     16.955000   25.000000  \n",
       "max     37.970000   50.000000  "
      ]
     },
     "execution_count": 175,
     "metadata": {},
     "output_type": "execute_result"
    }
   ],
   "source": [
    "home.describe()"
   ]
  },
  {
   "cell_type": "code",
   "execution_count": 192,
   "metadata": {},
   "outputs": [],
   "source": [
    "def evaluating_model(predictions, actual, acceptable_range, print_res = True):\n",
    "    total = len(predictions)\n",
    "    correct = 0\n",
    "    mae = 0\n",
    "    \n",
    "    for i in range(total):\n",
    "        difference = abs(predictions[i] - actual[i])\n",
    "        if difference <= acceptable_range:\n",
    "            correct += 1\n",
    "        mae += difference\n",
    "    \n",
    "    percent_correct = (correct / total) * 100\n",
    "    mae = mae / total\n",
    "    \n",
    "    if print_res:\n",
    "        print(\"{:0.2f}% correct within {} in $1000s ({} correct guesses)\".format(\n",
    "                percent_correct, acceptable_range, correct))\n",
    "        print(\"MAE: {:0.3f}\".format(mae))\n",
    "    return mae\n",
    "        "
   ]
  },
  {
   "cell_type": "markdown",
   "metadata": {},
   "source": [
    "#### Note: the values chosen for the paramteres in the models below were chosen after testing different parameters. "
   ]
  },
  {
   "cell_type": "markdown",
   "metadata": {},
   "source": [
    "### Linear Regression"
   ]
  },
  {
   "cell_type": "code",
   "execution_count": 206,
   "metadata": {},
   "outputs": [
    {
     "name": "stdout",
     "output_type": "stream",
     "text": [
      "Linear Reg 1 mse is 340.03362, rmse is 18.440\n",
      "6.86% correct within 2 $1000s (7 correct guesses)\n",
      "MAE: 14.271\n",
      "10.78% correct within 3 $1000s (11 correct guesses)\n",
      "MAE: 14.271\n",
      "\n",
      "Linear Reg 2 mse is 340.03362, rmse is 18.440\n",
      "6.86% correct within 2 $1000s (7 correct guesses)\n",
      "MAE: 14.271\n",
      "10.78% correct within 3 $1000s (11 correct guesses)\n",
      "MAE: 14.271\n",
      "\n"
     ]
    }
   ],
   "source": [
    "from sklearn.linear_model import LinearRegression\n",
    "from sklearn.metrics import mean_squared_error\n",
    "\n",
    "count = 1\n",
    "lin_array = []\n",
    "\n",
    "for i in range(len(nox_train_array)):\n",
    "    model_name = \"Linear Regression {}\".format(count)\n",
    "    lin_reg = LinearRegression()\n",
    "    lin_reg.fit(nox_train_array[i], home_train_y)\n",
    "\n",
    "    predicted = lin_reg.predict(home_test_array[i])\n",
    "    mse = mean_squared_error(home_test_y, predicted)\n",
    "    rmse = np.sqrt(mse)\n",
    "\n",
    "    print(\"Linear Reg {} mse is {:.5f}, rmse is {:.3f}\".format(count, mse, rmse))\n",
    "    evaluating_model(predicted, home_test_y.values, 2)\n",
    "    evaluating_model(predicted, home_test_y.values, 3)\n",
    "    count +=1\n",
    "    lin_array.append((model_name, lin_reg))\n",
    "    print()\n",
    "\n"
   ]
  },
  {
   "cell_type": "markdown",
   "metadata": {},
   "source": [
    "### Ridge Regression"
   ]
  },
  {
   "cell_type": "code",
   "execution_count": 207,
   "metadata": {},
   "outputs": [
    {
     "name": "stdout",
     "output_type": "stream",
     "text": [
      "Ridge Reg 1 mse is 28.93008, rmse is 5.379\n",
      "44.12% correct within 2 $1000s (45 correct guesses)\n",
      "MAE: 3.532\n",
      "60.78% correct within 3 $1000s (62 correct guesses)\n",
      "MAE: 3.532\n",
      "\n",
      "Ridge Reg 2 mse is 34.43796, rmse is 5.868\n",
      "40.20% correct within 2 $1000s (41 correct guesses)\n",
      "MAE: 3.951\n",
      "57.84% correct within 3 $1000s (59 correct guesses)\n",
      "MAE: 3.951\n",
      "\n"
     ]
    }
   ],
   "source": [
    "from sklearn.linear_model import Ridge\n",
    "from sklearn.metrics import mean_squared_error\n",
    "\n",
    "count = 1\n",
    "ridge_array = []\n",
    "\n",
    "for i in range(len(nox_train_array)):\n",
    "    model_name = \"Ridge Regression{}\".format(count)\n",
    "    ridge_reg = Ridge(alpha=1, solver=\"cholesky\")\n",
    "    ridge_reg.fit(home_train_array[i], home_train_y)\n",
    "\n",
    "    predicted = ridge_reg.predict(home_test_array[i])\n",
    "\n",
    "    mse = mean_squared_error(home_test_y, predicted)\n",
    "    rmse = np.sqrt(mse)\n",
    "\n",
    "    print(\"Ridge Reg {} mse is {:.5f}, rmse is {:.3f}\".format(count, mse, rmse))\n",
    "    evaluating_model(predicted, home_test_y.values, 2)\n",
    "    evaluating_model(predicted, home_test_y.values, 3)\n",
    "    count +=1\n",
    "    ridge_array.append((model_name, ridge_reg))\n",
    "    print()\n",
    "\n",
    "\n",
    "\n"
   ]
  },
  {
   "cell_type": "markdown",
   "metadata": {},
   "source": [
    "### Elastic Net Regression"
   ]
  },
  {
   "cell_type": "code",
   "execution_count": 208,
   "metadata": {},
   "outputs": [
    {
     "name": "stdout",
     "output_type": "stream",
     "text": [
      "Elastic Reg 1 mse is 337.21872, rmse is 18.364\n",
      "5.88% correct within 2 $1000s (6 correct guesses)\n",
      "MAE: 14.199\n",
      "11.76% correct within 3 $1000s (12 correct guesses)\n",
      "MAE: 14.199\n",
      "\n",
      "Elastic Reg 2 mse is 337.82922, rmse is 18.380\n",
      "6.86% correct within 2 $1000s (7 correct guesses)\n",
      "MAE: 14.215\n",
      "10.78% correct within 3 $1000s (11 correct guesses)\n",
      "MAE: 14.215\n",
      "\n"
     ]
    }
   ],
   "source": [
    "from sklearn.linear_model import ElasticNet\n",
    "from sklearn.metrics import mean_squared_error\n",
    "\n",
    "count = 1\n",
    "elastic_array = []\n",
    "\n",
    "for i in range(len(nox_train_array)):\n",
    "    model_name = \"Elastic Regression{}\".format(count)\n",
    "    elas_reg = ElasticNet(alpha=0.3, l1_ratio=0.5)\n",
    "    elas_reg.fit(nox_train_array[i], home_train_y)\n",
    "\n",
    "    predicted = elas_reg.predict(home_test_array[i])\n",
    "\n",
    "    mse = mean_squared_error(home_test_y, predicted)\n",
    "    rmse = np.sqrt(mse)\n",
    "\n",
    "    print(\"Elastic Reg {} mse is {:.5f}, rmse is {:.3f}\".format(count, mse, rmse))\n",
    "    evaluating_model(predicted, home_test_y.values, 2)\n",
    "    evaluating_model(predicted, home_test_y.values, 3)\n",
    "    count +=1\n",
    "    elastic_array.append((model_name, elas_reg))\n",
    "    print()\n",
    "\n",
    "\n"
   ]
  },
  {
   "cell_type": "markdown",
   "metadata": {},
   "source": [
    "### Lasso Regression"
   ]
  },
  {
   "cell_type": "code",
   "execution_count": 209,
   "metadata": {},
   "outputs": [
    {
     "name": "stdout",
     "output_type": "stream",
     "text": [
      "Lasso Reg 1 mse is 31.09229, rmse is 5.576\n",
      "44.12% correct within 2 $1000s (45 correct guesses)\n",
      "MAE: 3.629\n",
      "59.80% correct within 3 $1000s (61 correct guesses)\n",
      "MAE: 3.629\n",
      "\n",
      "Lasso Reg 2 mse is 35.04847, rmse is 5.920\n",
      "38.24% correct within 2 $1000s (39 correct guesses)\n",
      "MAE: 3.962\n",
      "56.86% correct within 3 $1000s (58 correct guesses)\n",
      "MAE: 3.962\n",
      "\n"
     ]
    }
   ],
   "source": [
    "from sklearn.linear_model import Lasso\n",
    "from sklearn.metrics import mean_squared_error\n",
    "\n",
    "count = 1\n",
    "lasso_array = []\n",
    "\n",
    "for i in range(len(nox_train_array)):\n",
    "    model_name = \"Lasso Regression{}\".format(count)\n",
    "    lasso_reg = Lasso(alpha=0.1)\n",
    "    lasso_reg.fit(home_train_array[i], home_train_y)\n",
    "\n",
    "    predicted = lasso_reg.predict(home_test_array[i])\n",
    "\n",
    "    mse = mean_squared_error(home_test_y, predicted)\n",
    "    rmse = np.sqrt(mse)\n",
    "\n",
    "    print(\"Lasso Reg {} mse is {:.5f}, rmse is {:.3f}\".format(count, mse, rmse))\n",
    "    evaluating_model(predicted, home_test_y.values, 2)\n",
    "    evaluating_model(predicted, home_test_y.values, 3)\n",
    "    count +=1\n",
    "    lasso_array.append((model_name, lasso_reg))\n",
    "    print()\n"
   ]
  },
  {
   "cell_type": "markdown",
   "metadata": {},
   "source": [
    "### Decision Trees"
   ]
  },
  {
   "cell_type": "code",
   "execution_count": 216,
   "metadata": {},
   "outputs": [
    {
     "name": "stdout",
     "output_type": "stream",
     "text": [
      "Decision Tree Reg 1 mse is 22.35196, rmse is 4.728\n",
      "50.00% correct within 2 $1000s (51 correct guesses)\n",
      "MAE: 2.737\n",
      "72.55% correct within 3 $1000s (74 correct guesses)\n",
      "MAE: 2.737\n",
      "\n",
      "Decision Tree Reg 2 mse is 21.99152, rmse is 4.690\n",
      "51.96% correct within 2 $1000s (53 correct guesses)\n",
      "MAE: 2.690\n",
      "75.49% correct within 3 $1000s (77 correct guesses)\n",
      "MAE: 2.690\n",
      "\n"
     ]
    }
   ],
   "source": [
    "from sklearn.tree import DecisionTreeRegressor\n",
    "tree = DecisionTreeRegressor(max_depth=5, criterion='mae')\n",
    "\n",
    "count = 1\n",
    "tree_array = []\n",
    "\n",
    "for i in range(len(nox_train_array)):\n",
    "    model_name = \"decision_tree_reg{}\".format(count)\n",
    "    tree_reg = DecisionTreeRegressor(max_depth=5, criterion='mae')\n",
    "    tree_reg.fit(home_train_array[i], home_train_y)\n",
    "\n",
    "    predicted = tree_reg.predict(home_test_array[i])\n",
    "\n",
    "    mse = mean_squared_error(home_test_y, predicted)\n",
    "    rmse = np.sqrt(mse)\n",
    "\n",
    "    print(\"Decision Tree Reg {} mse is {:.5f}, rmse is {:.3f}\".format(count, mse, rmse))\n",
    "    evaluating_model(predicted, home_test_y.values, 2)\n",
    "    evaluating_model(predicted, home_test_y.values, 3)\n",
    "    count +=1\n",
    "    tree_array.append((model_name, tree_reg))\n",
    "    print()\n",
    "\n"
   ]
  },
  {
   "cell_type": "markdown",
   "metadata": {},
   "source": [
    "### Baseline\n",
    "\n",
    "#### Let's use the average median home value as the prediction and see the accuracy/mae."
   ]
  },
  {
   "cell_type": "code",
   "execution_count": 218,
   "metadata": {
    "scrolled": true
   },
   "outputs": [
    {
     "name": "stdout",
     "output_type": "stream",
     "text": [
      "Baseline mse is 90.60006077715369, rmse is 9.51840642004499\n",
      "32.35% correct within 2 $1000s (33 correct guesses)\n",
      "MAE: 6.259\n",
      "47.06% correct within 3 $1000s (48 correct guesses)\n",
      "MAE: 6.259\n",
      "\n"
     ]
    }
   ],
   "source": [
    "# Using the average number of rings found in training data and using \n",
    "# that as all predictions. \n",
    "avg_y = home_train_y.mean()\n",
    "\n",
    "# Creating an array of size of the test data filled with the \n",
    "# average ring number obtained above.\n",
    "avg_y_predictions = np.full(len(home_test_y), fill_value=avg_y)\n",
    "avg_mse = mean_squared_error(avg_y_predictions, home_test_y)\n",
    "avg_rmse = np.sqrt(avg_mse)\n",
    "\n",
    "print(\"Baseline mse is {}, rmse is {}\".format(avg_mse, avg_rmse))\n",
    "evaluating_model(avg_y_predictions, home_test_y.values, 2)\n",
    "evaluating_model(avg_y_predictions, home_test_y.values, 3)\n",
    "print()"
   ]
  },
  {
   "cell_type": "markdown",
   "metadata": {},
   "source": [
    "#### This time, not all of our models are better than the baseline!"
   ]
  },
  {
   "cell_type": "markdown",
   "metadata": {},
   "source": [
    "## Cross-Validation\n",
    "\n",
    "#### Let's also test our models with cross-validation (k-folds)"
   ]
  },
  {
   "cell_type": "code",
   "execution_count": 217,
   "metadata": {},
   "outputs": [
    {
     "name": "stdout",
     "output_type": "stream",
     "text": [
      "Model: Linear Regression 1\n",
      "RMSE: 5.181\n",
      "RMSE Standard deviation: 2.804\n",
      "MAE: 4.005\n",
      "MAE Standard deviation: 2.084\n",
      "\n",
      "Model: Linear Regression 2\n",
      "RMSE: 5.431\n",
      "RMSE Standard deviation: 2.791\n",
      "MAE: 4.214\n",
      "MAE Standard deviation: 1.986\n",
      "\n",
      "Model: Ridge Regression1\n",
      "RMSE: 5.095\n",
      "RMSE Standard deviation: 2.849\n",
      "MAE: 3.919\n",
      "MAE Standard deviation: 2.119\n",
      "\n",
      "Model: Ridge Regression2\n",
      "RMSE: 5.394\n",
      "RMSE Standard deviation: 2.797\n",
      "MAE: 4.186\n",
      "MAE Standard deviation: 1.980\n",
      "\n",
      "Model: Elastic Regression1\n",
      "RMSE: 5.066\n",
      "RMSE Standard deviation: 2.140\n",
      "MAE: 3.798\n",
      "MAE Standard deviation: 1.546\n",
      "\n",
      "Model: Elastic Regression2\n",
      "RMSE: 5.390\n",
      "RMSE Standard deviation: 2.104\n",
      "MAE: 4.123\n",
      "MAE Standard deviation: 1.360\n",
      "\n",
      "Model: Lasso Regression1\n",
      "RMSE: 5.109\n",
      "RMSE Standard deviation: 2.842\n",
      "MAE: 3.901\n",
      "MAE Standard deviation: 2.102\n",
      "\n",
      "Model: Lasso Regression2\n",
      "RMSE: 5.406\n",
      "RMSE Standard deviation: 2.738\n",
      "MAE: 4.187\n",
      "MAE Standard deviation: 1.907\n",
      "\n",
      "Model: decision_tree_reg1\n",
      "RMSE: 5.413\n",
      "RMSE Standard deviation: 2.344\n",
      "MAE: 3.417\n",
      "MAE Standard deviation: 1.013\n",
      "\n",
      "Model: decision_tree_reg2\n",
      "RMSE: 5.594\n",
      "RMSE Standard deviation: 2.684\n",
      "MAE: 3.655\n",
      "MAE Standard deviation: 1.248\n",
      "\n"
     ]
    }
   ],
   "source": [
    "from sklearn.model_selection import cross_val_score\n",
    "\n",
    "process = StandardScaler()\n",
    "\n",
    "\n",
    "# Obtained from previous step\n",
    "home_data\n",
    "\n",
    "for data_set in home_data:\n",
    "    data_set = process.fit_transform(data_set)\n",
    "\n",
    "models = [lin_array, ridge_array, elastic_array, lasso_array, tree_array]\n",
    "\n",
    "def cross_validate_model(models):\n",
    "    for model in models:\n",
    "        for i in range(len(model)):\n",
    "            trial = model[i]\n",
    "            mse = cross_val_score(trial[1], home_data[i], home_y,\n",
    "                    scoring='neg_mean_squared_error', \n",
    "                    cv=10)\n",
    "            rmse = np.sqrt(-mse)\n",
    "            mae = cross_val_score(trial[1], home_data[i], home_y,\n",
    "                    scoring='neg_mean_absolute_error', \n",
    "                    cv=10)\n",
    "\n",
    "\n",
    "            print(\"Model: {}\".format(trial[0]))\n",
    "            print(\"RMSE: {:.3f}\".format(rmse.mean()))\n",
    "            print(\"RMSE Standard deviation: {:.3f}\".format(rmse.std()))\n",
    "            print(\"MAE: {:.3f}\".format(-mae.mean()))\n",
    "            print(\"MAE Standard deviation: {:.3f}\".format(mae.std()))\n",
    "            print()\n",
    "\n",
    "cross_validate_model(models)"
   ]
  },
  {
   "cell_type": "markdown",
   "metadata": {},
   "source": [
    "## Results\n",
    "\n",
    "### Test-Train Split\n",
    "\n",
    "#### From the results, we see that this time, not all our models beat the baseline (6.2 MAE and 47% accuracy for +/- 3). Linear and Elastic Regressions had a large MAE (about 14, which is about 1.5 times the standard deviation). The accuracy was also around 10%. \n",
    "\n",
    "#### On the other hand, Ridge and Lasso Regression beat the baseline and had between 3.5-3.9 MAE with around a 60% accuracy. The Decision Tree Regressor ended up performing the best having above 70% accuracy with around 2.7 MAE.\n",
    "\n",
    "#### Additionally, for each type of model, we see that there is a general trend with the different sets of features included in data. As a reminder, the two types of sets of features we passed into each model was 1. All features and 2. RM, LSTAT, PTRATIO, INDUS, TAX, NOX, CRIM, RAD, AGE (so we drop ZN, B, DIS, CHAS). As we predicted, feature set 2 ended up performing better than feature set 1. \n",
    "\n",
    "### Cross-Validation\n",
    "#### From our cross-validation, we see that Linear and Elastic Regressions ended up performing a lot better on average. In fact, Elastic Regression ended up performing 2nd best, following the Decision Tree Regressor. From this, we can see that our data set was fairly small (n=506) so the results shown via cross-validation should be the results taken. The test-train split models seemed to overfit for the specific training data set."
   ]
  }
 ],
 "metadata": {
  "kernelspec": {
   "display_name": "Python 3",
   "language": "python",
   "name": "python3"
  },
  "language_info": {
   "codemirror_mode": {
    "name": "ipython",
    "version": 3
   },
   "file_extension": ".py",
   "mimetype": "text/x-python",
   "name": "python",
   "nbconvert_exporter": "python",
   "pygments_lexer": "ipython3",
   "version": "3.7.3"
  }
 },
 "nbformat": 4,
 "nbformat_minor": 2
}
